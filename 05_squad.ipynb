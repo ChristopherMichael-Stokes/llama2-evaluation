{
 "cells": [
  {
   "cell_type": "code",
   "execution_count": null,
   "metadata": {},
   "outputs": [],
   "source": [
    "from llama2 import *\n",
    "from typing import List, Literal, Optional, Tuple, TypedDict\n",
    "import pandas as pd\n",
    "import datasets\n",
    "import string\n",
    "from evaluate import evaluator\n",
    "from evaluate import load\n",
    "\n",
    "from torch.utils.data import Dataset"
   ]
  },
  {
   "cell_type": "code",
   "execution_count": null,
   "metadata": {
    "tags": [
     "parameters"
    ]
   },
   "outputs": [],
   "source": [
    "model_size='int8'\n",
    "max_samples=10"
   ]
  },
  {
   "cell_type": "markdown",
   "metadata": {},
   "source": [
    "## 1 - Load model"
   ]
  },
  {
   "cell_type": "code",
   "execution_count": null,
   "metadata": {},
   "outputs": [],
   "source": [
    "#papermill_description=LOADING_MODEL\n",
    "model_name = \"meta-llama/Llama-2-7b-chat-hf\"\n",
    "\n",
    "model = LlamaModel(\n",
    "    model_name=model_name,\n",
    "    model_resolution=model_size\n",
    ")\n",
    "\n",
    "model.model.to = lambda x: x # Disable device copying"
   ]
  },
  {
   "cell_type": "markdown",
   "metadata": {},
   "source": [
    "## 2 - Load dataset"
   ]
  },
  {
   "cell_type": "code",
   "execution_count": null,
   "metadata": {},
   "outputs": [],
   "source": [
    "#papermill_description=LOADING_DATA\n",
    "dataset = datasets.load_dataset('squad_v2', split='validation')"
   ]
  },
  {
   "cell_type": "code",
   "execution_count": null,
   "metadata": {},
   "outputs": [],
   "source": [
    "dataset"
   ]
  },
  {
   "cell_type": "code",
   "execution_count": null,
   "metadata": {},
   "outputs": [],
   "source": [
    "dataset[2]"
   ]
  },
  {
   "cell_type": "markdown",
   "metadata": {},
   "source": [
    "## 3 - Define data prep and model inference functions"
   ]
  },
  {
   "cell_type": "code",
   "execution_count": null,
   "metadata": {},
   "outputs": [],
   "source": [
    "def format_question(sample: dict) -> str:\n",
    "    \"\"\"Format a sample from the squad V2 dataset to question answer string.\"\"\"\n",
    "    pretext = (f'{model.B_INST} You are performing extractive reading comprehension; '\n",
    "               'given a question and a paragraph from an article, respond only with a '\n",
    "               'direct extract from the article that answers the question and do not use your own '\n",
    "               'prior knowledge.  If no direct extract from the context can answer the question, '\n",
    "               f'respond with an empty quote.'\n",
    "               f' {model.E_INST}\\n')  # Llama system directive\n",
    "    q_a = (f'Article: {sample[\"title\"]}\\n'\n",
    "         f'Paragraph: {sample[\"context\"]}\\n\\n'\n",
    "         f'Question: {sample[\"question\"]}\\n\\n'\n",
    "         f'Answer: ')\n",
    "    \n",
    "    return pretext + q_a\n",
    "\n",
    "\n",
    "def squad_inference(df: pd.DataFrame, model) -> pd.DataFrame:\n",
    "    \"\"\"Predict the output extracts for all samples in the input squad format dataset\"\"\"\n",
    "    df_val = df.copy(deep=True)\n",
    "    df_val['prediction_text'] = ''\n",
    "    df_val['no_answer_probability'] = 0.\n",
    "    df_val['pred_start'] = -1\n",
    "\n",
    "    for idx in range(len(df)):\n",
    "        x = format_question(df.iloc[idx])\n",
    "        y_pred = model.generate(x) # TODO: get prob of </s> token on output as no_answer_probability\n",
    "        \n",
    "        y_pred_clean = y_pred[len(x)+3:-4].strip().strip(string.punctuation) # Remove start / end tags + whitespace\n",
    "        df_val.loc[idx, 'prediction_text'] = y_pred_clean\n",
    "        if y_pred_clean != '':\n",
    "            df_val.loc[idx, 'pred_start'] = str(df_val.context.iloc[idx]).find(y_pred_clean)\n",
    "\n",
    "    return df_val"
   ]
  },
  {
   "cell_type": "code",
   "execution_count": null,
   "metadata": {},
   "outputs": [],
   "source": [
    "df = dataset.to_pandas()\n",
    "df['prediction'] = ''\n",
    "df['pred_start'] = -1\n",
    "\n",
    "idx = 9\n",
    "x = format_question(dataset[idx])\n",
    "print(x)\n",
    "\n",
    "y_pred = model.generate(x)\n",
    "print(y_pred)\n",
    "y_pred_clean = y_pred[len(x)+3:-4].strip().strip(string.punctuation) # Remove start / end tags + whitespace\n",
    "df.loc[idx, 'prediction'] = y_pred_clean\n",
    "if y_pred_clean != '':\n",
    "    df.loc[idx, 'pred_start'] = str(df.context.iloc[idx]).find(y_pred_clean)"
   ]
  },
  {
   "cell_type": "code",
   "execution_count": null,
   "metadata": {},
   "outputs": [],
   "source": [
    "df.loc[idx]"
   ]
  },
  {
   "cell_type": "code",
   "execution_count": null,
   "metadata": {},
   "outputs": [],
   "source": [
    "#papermill_description=RUNNING_INFERENCE\n",
    "pd_dataset = dataset.to_pandas()\n",
    "if max_samples > 0 and max_samples < len(pd_dataset):\n",
    "    pd_dataset = pd_dataset.iloc[:max_samples - 1]\n",
    "df2 = squad_inference(pd_dataset, model)"
   ]
  },
  {
   "cell_type": "code",
   "execution_count": null,
   "metadata": {},
   "outputs": [],
   "source": [
    "df2.head(1)"
   ]
  },
  {
   "cell_type": "markdown",
   "metadata": {},
   "source": [
    "## 5 - Evaluate performance"
   ]
  },
  {
   "cell_type": "code",
   "execution_count": null,
   "metadata": {},
   "outputs": [],
   "source": [
    "#papermill_description=EVALUATION\n",
    "squad_v2_metric = load(\"squad_v2\")\n",
    "\n",
    "predictions = df2[['prediction_text', 'no_answer_probability', 'id']].to_dict('records')\n",
    "answers = df2[['answers', 'id']].to_dict('records')\n",
    "\n",
    "results = squad_v2_metric.compute(predictions=predictions, references=answers)\n",
    "results"
   ]
  },
  {
   "cell_type": "raw",
   "metadata": {},
   "source": [
    "# Trying the all-in-one evaluator pipeline - not working currently with llama\n",
    "task_evaluator = evaluator(\"question-answering\")\n",
    "results = task_evaluator.compute(\n",
    "     model_or_pipeline=model.model,\n",
    "     tokenizer=model.tokenizer,\n",
    "     data=dataset,\n",
    "     metric=\"squad_v2\",\n",
    "     squad_v2_format=True,\n",
    ")"
   ]
  }
 ],
 "metadata": {
  "kernelspec": {
   "display_name": ".env",
   "language": "python",
   "name": "python3"
  },
  "language_info": {
   "codemirror_mode": {
    "name": "ipython",
    "version": 3
   },
   "file_extension": ".py",
   "mimetype": "text/x-python",
   "name": "python",
   "nbconvert_exporter": "python",
   "pygments_lexer": "ipython3",
   "version": "3.11.3"
  },
  "orig_nbformat": 4
 },
 "nbformat": 4,
 "nbformat_minor": 2
}
