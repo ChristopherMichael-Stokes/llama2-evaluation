{
 "cells": [
  {
   "cell_type": "code",
   "execution_count": null,
   "metadata": {},
   "outputs": [],
   "source": [
    "from llama2 import *\n",
    "from typing import List, Literal, Optional, Tuple, TypedDict\n",
    "from pprint import pprint\n",
    "import pandas as pd\n",
    "import numpy as np\n",
    "import datasets\n",
    "import evaluate\n",
    "\n",
    "from torch.utils.data import Dataset"
   ]
  },
  {
   "cell_type": "code",
   "execution_count": null,
   "metadata": {
    "tags": [
     "parameters"
    ]
   },
   "outputs": [],
   "source": [
    "model_size='int4'\n",
    "max_samples=100"
   ]
  },
  {
   "cell_type": "markdown",
   "metadata": {},
   "source": [
    "## 1 - Load model"
   ]
  },
  {
   "cell_type": "code",
   "execution_count": null,
   "metadata": {},
   "outputs": [],
   "source": [
    "model_name = \"meta-llama/Llama-2-7b-chat-hf\"\n",
    "\n",
    "model = LlamaModel(\n",
    "    model_name=model_name,\n",
    "    model_resolution=model_size\n",
    ")"
   ]
  },
  {
   "cell_type": "markdown",
   "metadata": {},
   "source": [
    "## 2 - Load data"
   ]
  },
  {
   "cell_type": "code",
   "execution_count": null,
   "metadata": {},
   "outputs": [],
   "source": [
    "dataset = datasets.load_dataset('hellaswag', split='validation')"
   ]
  },
  {
   "cell_type": "code",
   "execution_count": null,
   "metadata": {},
   "outputs": [],
   "source": [
    "dataset"
   ]
  },
  {
   "cell_type": "code",
   "execution_count": null,
   "metadata": {},
   "outputs": [],
   "source": [
    "dataset[0]"
   ]
  },
  {
   "cell_type": "code",
   "execution_count": null,
   "metadata": {},
   "outputs": [],
   "source": [
    "n_options = [len(x['endings']) for x in dataset]\n",
    "assert min(n_options) == max(n_options)\n",
    "max(n_options), min(n_options) # All endings in the dataset have exactly four options"
   ]
  },
  {
   "cell_type": "code",
   "execution_count": null,
   "metadata": {},
   "outputs": [],
   "source": [
    "x = dataset[2]\n",
    "options = [f\"\\t{chr(ord('a')+i)}) {option}\" for i, option in enumerate(x['endings'])]\n",
    "endings = '\\n'.join(options)\n",
    "text = f'''\\\n",
    "{model.B_INST} You are solving an entailment task, given the situation respond with the most appropriate completion. \n",
    "Think logically and step by step. {model.E_INST}\n",
    "{x[\"activity_label\"]}. {x['ctx']}\n",
    "\n",
    "{endings}\n",
    "\n",
    "Answer:\n",
    "\n",
    "The correct answer is ('''\n",
    "\n",
    "print(text)"
   ]
  },
  {
   "cell_type": "code",
   "execution_count": null,
   "metadata": {},
   "outputs": [],
   "source": [
    "output = model.generate(text)\n",
    "print(output)"
   ]
  },
  {
   "cell_type": "code",
   "execution_count": null,
   "metadata": {},
   "outputs": [],
   "source": [
    "class HellaSwag(Dataset):\n",
    "    def __init__(self, split: str, inst_toks: List[str] | None = None):\n",
    "        self.dataset = datasets.load_dataset('hellaswag', split='validation')\n",
    "        self.inst_toks = inst_toks\n",
    "\n",
    "    def __len__(self):\n",
    "        return len(self.dataset)\n",
    "    \n",
    "    def __getitem__(self, idx: int):\n",
    "        x = self.dataset[idx]\n",
    "        options = [f\"\\t{chr(ord('a')+i)}) {option}\" for i, option in enumerate(x['endings'])]\n",
    "        endings = '\\n'.join(options)\n",
    "\n",
    "        pretext = ''\n",
    "        if self.inst_toks:\n",
    "            pretext = (f'{self.inst_toks[0]} You are solving an entailment task, given the '\n",
    "                        'situation respond with the most appropriate completion. \\n'\n",
    "                        f'Think logically and step by step. {self.inst_toks[1]}')\n",
    "        text = pretext + (f'{x[\"activity_label\"]} {x[\"ctx\"]}\\n\\n'\n",
    "                f'{endings}\\n\\n'\n",
    "                'Answer:\\n\\nThe correct answer is (')\n",
    "        \n",
    "        y = x['label']\n",
    "        return text, int(y)"
   ]
  },
  {
   "cell_type": "code",
   "execution_count": null,
   "metadata": {},
   "outputs": [],
   "source": [
    "def eval(model: LlamaModel, x):\n",
    "    with torch.no_grad():\n",
    "        tok_ids = model.tokenize(x)\n",
    "        output = model.model(tok_ids.to(model.model.device))\n",
    "        choices = model.tokenizer.convert_tokens_to_ids(['a','b','c','d'])\n",
    "        probs = torch.softmax(output['logits'][:,-1,choices], dim=1)\n",
    "    return probs.argmax().item(), probs.max().item()\n",
    "\n",
    "\n",
    "def eval_dataset(model, data, max_samples):\n",
    "    gt, pred, prob = [], [], []\n",
    "\n",
    "    limit = len(data)\n",
    "    if max_samples > 0:\n",
    "        limit = min([limit, max_samples])\n",
    "\n",
    "    for i in range(limit):\n",
    "        x, y = data[i]\n",
    "        res = eval(model, x)\n",
    "\n",
    "        gt.append(y)\n",
    "        pred.append(res[0])\n",
    "        prob.append(res[1])\n",
    "\n",
    "    df = pd.DataFrame({'y': gt, 'y_pred': pred, 'prob': prob})\n",
    "    return df\n",
    "\n",
    "\n",
    "def get_metrics(df: pd.DataFrame) -> Dict[str, float]:\n",
    "    accuracy = (df.y_pred == df.y).sum() / len(df)\n",
    "    \n",
    "    mat = torch.zeros(4,4, dtype=int)\n",
    "    for i in range(len(df)):\n",
    "        row = df.iloc[i]\n",
    "        mat[int(row.y_pred), int(row.y)] += 1\n",
    "\n",
    "    recall = [mat[i, i] / (mat[i, :].sum() + 1e-6) for i in range(4)]\n",
    "    precision = [mat[i, i] / (mat[:, i].sum() + 1e-6)for i in range(4)]\n",
    "\n",
    "    mp = sum(precision) / 4\n",
    "    mr = sum(recall) / 4\n",
    "\n",
    "    f1 = (2 * (mp * mr) / (mp + mr)).item()\n",
    "\n",
    "    return {'accuracy': f'{accuracy:.4f}', 'f1': f'{f1:.4f}'}"
   ]
  },
  {
   "cell_type": "markdown",
   "metadata": {},
   "source": [
    "## 3 - Run inference"
   ]
  },
  {
   "cell_type": "code",
   "execution_count": null,
   "metadata": {},
   "outputs": [],
   "source": [
    "df = eval_dataset(model, HellaSwag('validation'), max_samples)\n",
    "# df = eval_dataset(model, HellaSwag('validation', [model.B_INST, model.E_INST]), max_samples)\n",
    "df.prob.describe()"
   ]
  },
  {
   "cell_type": "code",
   "execution_count": null,
   "metadata": {},
   "outputs": [],
   "source": [
    "for precision in np.linspace(0,1,10, endpoint=False):\n",
    "    print(f'Class prob > {precision:.1f}: {get_metrics(df[df.prob > precision])}')"
   ]
  }
 ],
 "metadata": {
  "kernelspec": {
   "display_name": ".env",
   "language": "python",
   "name": "python3"
  },
  "language_info": {
   "codemirror_mode": {
    "name": "ipython",
    "version": 3
   },
   "file_extension": ".py",
   "mimetype": "text/x-python",
   "name": "python",
   "nbconvert_exporter": "python",
   "pygments_lexer": "ipython3",
   "version": "3.11.3"
  },
  "orig_nbformat": 4
 },
 "nbformat": 4,
 "nbformat_minor": 2
}
