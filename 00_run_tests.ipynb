{
 "cells": [
  {
   "cell_type": "code",
   "execution_count": 1,
   "metadata": {},
   "outputs": [],
   "source": [
    "import papermill as pm\n",
    "from pathlib import Path"
   ]
  },
  {
   "cell_type": "code",
   "execution_count": 2,
   "metadata": {},
   "outputs": [],
   "source": [
    "types = ['int4', 'int8']\n",
    "output_path = './outputs/_notebooks'\n",
    "tests = ['04_hellaswag', '05_squad', '06_glue']\n",
    "max_samples=-1"
   ]
  },
  {
   "cell_type": "code",
   "execution_count": 3,
   "metadata": {},
   "outputs": [
    {
     "name": "stderr",
     "output_type": "stream",
     "text": [
      "Black is not installed, parameters wont be formatted\n"
     ]
    },
    {
     "name": "stderr",
     "output_type": "stream",
     "text": [
      "/home/chris/Desktop/repos/llama2/.env/lib/python3.11/site-packages/tqdm/auto.py:21: TqdmWarning: IProgress not found. Please update jupyter and ipywidgets. See https://ipywidgets.readthedocs.io/en/stable/user_install.html\n",
      "  from .autonotebook import tqdm as notebook_tqdm\n",
      "Executing:   0%|          | 0/17 [00:00<?, ?cell/s]0.00s - Debugger warning: It seems that frozen modules are being used, which may\n",
      "0.00s - make the debugger miss breakpoints. Please pass -Xfrozen_modules=off\n",
      "0.00s - to python to disable frozen modules.\n",
      "0.00s - Note: Debugging will proceed. Set PYDEVD_DISABLE_FILE_VALIDATION=1 to disable this validation.\n",
      "Executing: 100%|██████████| 17/17 [00:13<00:00,  1.29cell/s]\n",
      "Black is not installed, parameters wont be formatted\n",
      "Executing:   0%|          | 0/17 [00:00<?, ?cell/s]0.00s - Debugger warning: It seems that frozen modules are being used, which may\n",
      "0.00s - make the debugger miss breakpoints. Please pass -Xfrozen_modules=off\n",
      "0.00s - to python to disable frozen modules.\n",
      "0.00s - Note: Debugging will proceed. Set PYDEVD_DISABLE_FILE_VALIDATION=1 to disable this validation.\n",
      "Executing: 100%|██████████| 17/17 [00:19<00:00,  1.15s/cell]\n",
      "Black is not installed, parameters wont be formatted\n",
      "Executing:   0%|          | 0/18 [00:00<?, ?cell/s]0.00s - Debugger warning: It seems that frozen modules are being used, which may\n",
      "0.00s - make the debugger miss breakpoints. Please pass -Xfrozen_modules=off\n",
      "0.00s - to python to disable frozen modules.\n",
      "0.00s - Note: Debugging will proceed. Set PYDEVD_DISABLE_FILE_VALIDATION=1 to disable this validation.\n",
      "Executing RUNNING_INFERENCE:  78%|███████▊  | 14/18 [1:42:39<29:19, 439.97s/cell]\n"
     ]
    },
    {
     "ename": "KeyboardInterrupt",
     "evalue": "",
     "output_type": "error",
     "traceback": [
      "\u001b[0;31m---------------------------------------------------------------------------\u001b[0m",
      "\u001b[0;31mKeyboardInterrupt\u001b[0m                         Traceback (most recent call last)",
      "Cell \u001b[0;32mIn[3], line 7\u001b[0m\n\u001b[1;32m      5\u001b[0m \u001b[39mfor\u001b[39;00m test \u001b[39min\u001b[39;00m tests:\n\u001b[1;32m      6\u001b[0m     \u001b[39mfor\u001b[39;00m type_ \u001b[39min\u001b[39;00m types:\n\u001b[0;32m----> 7\u001b[0m         out \u001b[39m=\u001b[39m pm\u001b[39m.\u001b[39;49mexecute_notebook(\n\u001b[1;32m      8\u001b[0m             \u001b[39mf\u001b[39;49m\u001b[39m'\u001b[39;49m\u001b[39m{\u001b[39;49;00mtest\u001b[39m}\u001b[39;49;00m\u001b[39m.ipynb\u001b[39;49m\u001b[39m'\u001b[39;49m,\n\u001b[1;32m      9\u001b[0m             output \u001b[39m/\u001b[39;49m \u001b[39mf\u001b[39;49m\u001b[39m'\u001b[39;49m\u001b[39m{\u001b[39;49;00mtest\u001b[39m}\u001b[39;49;00m\u001b[39m_\u001b[39;49m\u001b[39m{\u001b[39;49;00mtype_\u001b[39m}\u001b[39;49;00m\u001b[39m.ipynb\u001b[39;49m\u001b[39m'\u001b[39;49m,\n\u001b[1;32m     10\u001b[0m             parameters\u001b[39m=\u001b[39;49m{\u001b[39m'\u001b[39;49m\u001b[39mmodel_size\u001b[39;49m\u001b[39m'\u001b[39;49m: type_, \u001b[39m'\u001b[39;49m\u001b[39mmax_samples\u001b[39;49m\u001b[39m'\u001b[39;49m: max_samples}\n\u001b[1;32m     11\u001b[0m         )\n",
      "File \u001b[0;32m~/Desktop/repos/llama2/.env/lib/python3.11/site-packages/papermill/execute.py:113\u001b[0m, in \u001b[0;36mexecute_notebook\u001b[0;34m(input_path, output_path, parameters, engine_name, request_save_on_cell_execute, prepare_only, kernel_name, language, progress_bar, log_output, stdout_file, stderr_file, start_timeout, report_mode, cwd, **engine_kwargs)\u001b[0m\n\u001b[1;32m    111\u001b[0m \u001b[39m# Execute the Notebook in `cwd` if it is set\u001b[39;00m\n\u001b[1;32m    112\u001b[0m \u001b[39mwith\u001b[39;00m chdir(cwd):\n\u001b[0;32m--> 113\u001b[0m     nb \u001b[39m=\u001b[39m papermill_engines\u001b[39m.\u001b[39;49mexecute_notebook_with_engine(\n\u001b[1;32m    114\u001b[0m         engine_name,\n\u001b[1;32m    115\u001b[0m         nb,\n\u001b[1;32m    116\u001b[0m         input_path\u001b[39m=\u001b[39;49minput_path,\n\u001b[1;32m    117\u001b[0m         output_path\u001b[39m=\u001b[39;49moutput_path \u001b[39mif\u001b[39;49;00m request_save_on_cell_execute \u001b[39melse\u001b[39;49;00m \u001b[39mNone\u001b[39;49;00m,\n\u001b[1;32m    118\u001b[0m         kernel_name\u001b[39m=\u001b[39;49mkernel_name,\n\u001b[1;32m    119\u001b[0m         progress_bar\u001b[39m=\u001b[39;49mprogress_bar,\n\u001b[1;32m    120\u001b[0m         log_output\u001b[39m=\u001b[39;49mlog_output,\n\u001b[1;32m    121\u001b[0m         start_timeout\u001b[39m=\u001b[39;49mstart_timeout,\n\u001b[1;32m    122\u001b[0m         stdout_file\u001b[39m=\u001b[39;49mstdout_file,\n\u001b[1;32m    123\u001b[0m         stderr_file\u001b[39m=\u001b[39;49mstderr_file,\n\u001b[1;32m    124\u001b[0m         \u001b[39m*\u001b[39;49m\u001b[39m*\u001b[39;49mengine_kwargs\n\u001b[1;32m    125\u001b[0m     )\n\u001b[1;32m    127\u001b[0m \u001b[39m# Check for errors first (it saves on error before raising)\u001b[39;00m\n\u001b[1;32m    128\u001b[0m raise_for_execution_errors(nb, output_path)\n",
      "File \u001b[0;32m~/Desktop/repos/llama2/.env/lib/python3.11/site-packages/papermill/engines.py:49\u001b[0m, in \u001b[0;36mPapermillEngines.execute_notebook_with_engine\u001b[0;34m(self, engine_name, nb, kernel_name, **kwargs)\u001b[0m\n\u001b[1;32m     47\u001b[0m \u001b[39mdef\u001b[39;00m \u001b[39mexecute_notebook_with_engine\u001b[39m(\u001b[39mself\u001b[39m, engine_name, nb, kernel_name, \u001b[39m*\u001b[39m\u001b[39m*\u001b[39mkwargs):\n\u001b[1;32m     48\u001b[0m \u001b[39m    \u001b[39m\u001b[39m\"\"\"Fetch a named engine and execute the nb object against it.\"\"\"\u001b[39;00m\n\u001b[0;32m---> 49\u001b[0m     \u001b[39mreturn\u001b[39;00m \u001b[39mself\u001b[39;49m\u001b[39m.\u001b[39;49mget_engine(engine_name)\u001b[39m.\u001b[39;49mexecute_notebook(nb, kernel_name, \u001b[39m*\u001b[39;49m\u001b[39m*\u001b[39;49mkwargs)\n",
      "File \u001b[0;32m~/Desktop/repos/llama2/.env/lib/python3.11/site-packages/papermill/engines.py:367\u001b[0m, in \u001b[0;36mEngine.execute_notebook\u001b[0;34m(cls, nb, kernel_name, output_path, progress_bar, log_output, autosave_cell_every, **kwargs)\u001b[0m\n\u001b[1;32m    365\u001b[0m nb_man\u001b[39m.\u001b[39mnotebook_start()\n\u001b[1;32m    366\u001b[0m \u001b[39mtry\u001b[39;00m:\n\u001b[0;32m--> 367\u001b[0m     \u001b[39mcls\u001b[39;49m\u001b[39m.\u001b[39;49mexecute_managed_notebook(nb_man, kernel_name, log_output\u001b[39m=\u001b[39;49mlog_output, \u001b[39m*\u001b[39;49m\u001b[39m*\u001b[39;49mkwargs)\n\u001b[1;32m    368\u001b[0m \u001b[39mfinally\u001b[39;00m:\n\u001b[1;32m    369\u001b[0m     nb_man\u001b[39m.\u001b[39mcleanup_pbar()\n",
      "File \u001b[0;32m~/Desktop/repos/llama2/.env/lib/python3.11/site-packages/papermill/engines.py:436\u001b[0m, in \u001b[0;36mNBClientEngine.execute_managed_notebook\u001b[0;34m(cls, nb_man, kernel_name, log_output, stdout_file, stderr_file, start_timeout, execution_timeout, **kwargs)\u001b[0m\n\u001b[1;32m    425\u001b[0m \u001b[39m# Nicely handle preprocessor arguments prioritizing values set by engine\u001b[39;00m\n\u001b[1;32m    426\u001b[0m final_kwargs \u001b[39m=\u001b[39m merge_kwargs(\n\u001b[1;32m    427\u001b[0m     safe_kwargs,\n\u001b[1;32m    428\u001b[0m     timeout\u001b[39m=\u001b[39mexecution_timeout \u001b[39mif\u001b[39;00m execution_timeout \u001b[39melse\u001b[39;00m kwargs\u001b[39m.\u001b[39mget(\u001b[39m'\u001b[39m\u001b[39mtimeout\u001b[39m\u001b[39m'\u001b[39m),\n\u001b[0;32m   (...)\u001b[0m\n\u001b[1;32m    434\u001b[0m     stderr_file\u001b[39m=\u001b[39mstderr_file,\n\u001b[1;32m    435\u001b[0m )\n\u001b[0;32m--> 436\u001b[0m \u001b[39mreturn\u001b[39;00m PapermillNotebookClient(nb_man, \u001b[39m*\u001b[39;49m\u001b[39m*\u001b[39;49mfinal_kwargs)\u001b[39m.\u001b[39;49mexecute()\n",
      "File \u001b[0;32m~/Desktop/repos/llama2/.env/lib/python3.11/site-packages/papermill/clientwrap.py:45\u001b[0m, in \u001b[0;36mPapermillNotebookClient.execute\u001b[0;34m(self, **kwargs)\u001b[0m\n\u001b[1;32m     43\u001b[0m \u001b[39mwith\u001b[39;00m \u001b[39mself\u001b[39m\u001b[39m.\u001b[39msetup_kernel(\u001b[39m*\u001b[39m\u001b[39m*\u001b[39mkwargs):\n\u001b[1;32m     44\u001b[0m     \u001b[39mself\u001b[39m\u001b[39m.\u001b[39mlog\u001b[39m.\u001b[39minfo(\u001b[39m\"\u001b[39m\u001b[39mExecuting notebook with kernel: \u001b[39m\u001b[39m%s\u001b[39;00m\u001b[39m\"\u001b[39m \u001b[39m%\u001b[39m \u001b[39mself\u001b[39m\u001b[39m.\u001b[39mkernel_name)\n\u001b[0;32m---> 45\u001b[0m     \u001b[39mself\u001b[39;49m\u001b[39m.\u001b[39;49mpapermill_execute_cells()\n\u001b[1;32m     46\u001b[0m     info_msg \u001b[39m=\u001b[39m \u001b[39mself\u001b[39m\u001b[39m.\u001b[39mwait_for_reply(\u001b[39mself\u001b[39m\u001b[39m.\u001b[39mkc\u001b[39m.\u001b[39mkernel_info())\n\u001b[1;32m     47\u001b[0m     \u001b[39mself\u001b[39m\u001b[39m.\u001b[39mnb\u001b[39m.\u001b[39mmetadata[\u001b[39m'\u001b[39m\u001b[39mlanguage_info\u001b[39m\u001b[39m'\u001b[39m] \u001b[39m=\u001b[39m info_msg[\u001b[39m'\u001b[39m\u001b[39mcontent\u001b[39m\u001b[39m'\u001b[39m][\u001b[39m'\u001b[39m\u001b[39mlanguage_info\u001b[39m\u001b[39m'\u001b[39m]\n",
      "File \u001b[0;32m~/Desktop/repos/llama2/.env/lib/python3.11/site-packages/papermill/clientwrap.py:72\u001b[0m, in \u001b[0;36mPapermillNotebookClient.papermill_execute_cells\u001b[0;34m(self)\u001b[0m\n\u001b[1;32m     70\u001b[0m \u001b[39mtry\u001b[39;00m:\n\u001b[1;32m     71\u001b[0m     \u001b[39mself\u001b[39m\u001b[39m.\u001b[39mnb_man\u001b[39m.\u001b[39mcell_start(cell, index)\n\u001b[0;32m---> 72\u001b[0m     \u001b[39mself\u001b[39;49m\u001b[39m.\u001b[39;49mexecute_cell(cell, index)\n\u001b[1;32m     73\u001b[0m \u001b[39mexcept\u001b[39;00m CellExecutionError \u001b[39mas\u001b[39;00m ex:\n\u001b[1;32m     74\u001b[0m     \u001b[39mself\u001b[39m\u001b[39m.\u001b[39mnb_man\u001b[39m.\u001b[39mcell_exception(\u001b[39mself\u001b[39m\u001b[39m.\u001b[39mnb\u001b[39m.\u001b[39mcells[index], cell_index\u001b[39m=\u001b[39mindex, exception\u001b[39m=\u001b[39mex)\n",
      "File \u001b[0;32m/usr/lib/python3.11/site-packages/jupyter_core/utils/__init__.py:158\u001b[0m, in \u001b[0;36mrun_sync.<locals>.wrapped\u001b[0;34m(*args, **kwargs)\u001b[0m\n\u001b[1;32m    156\u001b[0m     \u001b[39mif\u001b[39;00m name \u001b[39mnot\u001b[39;00m \u001b[39min\u001b[39;00m _runner_map:\n\u001b[1;32m    157\u001b[0m         _runner_map[name] \u001b[39m=\u001b[39m _TaskRunner()\n\u001b[0;32m--> 158\u001b[0m     \u001b[39mreturn\u001b[39;00m _runner_map[name]\u001b[39m.\u001b[39;49mrun(inner)\n\u001b[1;32m    159\u001b[0m \u001b[39mexcept\u001b[39;00m \u001b[39mRuntimeError\u001b[39;00m:\n\u001b[1;32m    160\u001b[0m     \u001b[39mpass\u001b[39;00m\n",
      "File \u001b[0;32m/usr/lib/python3.11/site-packages/jupyter_core/utils/__init__.py:125\u001b[0m, in \u001b[0;36m_TaskRunner.run\u001b[0;34m(self, coro)\u001b[0m\n\u001b[1;32m    123\u001b[0m         \u001b[39mself\u001b[39m\u001b[39m.\u001b[39m__runner_thread\u001b[39m.\u001b[39mstart()\n\u001b[1;32m    124\u001b[0m fut \u001b[39m=\u001b[39m asyncio\u001b[39m.\u001b[39mrun_coroutine_threadsafe(coro, \u001b[39mself\u001b[39m\u001b[39m.\u001b[39m__io_loop)\n\u001b[0;32m--> 125\u001b[0m \u001b[39mreturn\u001b[39;00m fut\u001b[39m.\u001b[39;49mresult(\u001b[39mNone\u001b[39;49;00m)\n",
      "File \u001b[0;32m/usr/lib/python3.11/concurrent/futures/_base.py:451\u001b[0m, in \u001b[0;36mFuture.result\u001b[0;34m(self, timeout)\u001b[0m\n\u001b[1;32m    448\u001b[0m \u001b[39melif\u001b[39;00m \u001b[39mself\u001b[39m\u001b[39m.\u001b[39m_state \u001b[39m==\u001b[39m FINISHED:\n\u001b[1;32m    449\u001b[0m     \u001b[39mreturn\u001b[39;00m \u001b[39mself\u001b[39m\u001b[39m.\u001b[39m__get_result()\n\u001b[0;32m--> 451\u001b[0m \u001b[39mself\u001b[39;49m\u001b[39m.\u001b[39;49m_condition\u001b[39m.\u001b[39;49mwait(timeout)\n\u001b[1;32m    453\u001b[0m \u001b[39mif\u001b[39;00m \u001b[39mself\u001b[39m\u001b[39m.\u001b[39m_state \u001b[39min\u001b[39;00m [CANCELLED, CANCELLED_AND_NOTIFIED]:\n\u001b[1;32m    454\u001b[0m     \u001b[39mraise\u001b[39;00m CancelledError()\n",
      "File \u001b[0;32m/usr/lib/python3.11/threading.py:320\u001b[0m, in \u001b[0;36mCondition.wait\u001b[0;34m(self, timeout)\u001b[0m\n\u001b[1;32m    318\u001b[0m \u001b[39mtry\u001b[39;00m:    \u001b[39m# restore state no matter what (e.g., KeyboardInterrupt)\u001b[39;00m\n\u001b[1;32m    319\u001b[0m     \u001b[39mif\u001b[39;00m timeout \u001b[39mis\u001b[39;00m \u001b[39mNone\u001b[39;00m:\n\u001b[0;32m--> 320\u001b[0m         waiter\u001b[39m.\u001b[39;49macquire()\n\u001b[1;32m    321\u001b[0m         gotit \u001b[39m=\u001b[39m \u001b[39mTrue\u001b[39;00m\n\u001b[1;32m    322\u001b[0m     \u001b[39melse\u001b[39;00m:\n",
      "\u001b[0;31mKeyboardInterrupt\u001b[0m: "
     ]
    }
   ],
   "source": [
    "# test = tests[1]\n",
    "# type_ = types[0]\n",
    "output = Path(output_path)\n",
    "\n",
    "for test in tests:\n",
    "    for type_ in types:\n",
    "        out = pm.execute_notebook(\n",
    "            f'{test}.ipynb',\n",
    "            output / f'{test}_{type_}.ipynb',\n",
    "            parameters={'model_size': type_, 'max_samples': max_samples}\n",
    "        )"
   ]
  }
 ],
 "metadata": {
  "kernelspec": {
   "display_name": ".env",
   "language": "python",
   "name": "python3"
  },
  "language_info": {
   "codemirror_mode": {
    "name": "ipython",
    "version": 3
   },
   "file_extension": ".py",
   "mimetype": "text/x-python",
   "name": "python",
   "nbconvert_exporter": "python",
   "pygments_lexer": "ipython3",
   "version": "3.11.3"
  },
  "orig_nbformat": 4
 },
 "nbformat": 4,
 "nbformat_minor": 2
}
