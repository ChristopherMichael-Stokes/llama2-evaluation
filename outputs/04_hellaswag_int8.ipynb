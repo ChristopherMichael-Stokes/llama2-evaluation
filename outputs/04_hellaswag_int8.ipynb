{
 "cells": [
  {
   "cell_type": "code",
   "execution_count": 1,
   "id": "9ce10ed7",
   "metadata": {
    "execution": {
     "iopub.execute_input": "2023-08-08T17:11:02.285817Z",
     "iopub.status.busy": "2023-08-08T17:11:02.285652Z",
     "iopub.status.idle": "2023-08-08T17:11:03.841341Z",
     "shell.execute_reply": "2023-08-08T17:11:03.841002Z"
    },
    "papermill": {
     "duration": 1.559762,
     "end_time": "2023-08-08T17:11:03.842388",
     "exception": false,
     "start_time": "2023-08-08T17:11:02.282626",
     "status": "completed"
    },
    "tags": []
   },
   "outputs": [
    {
     "name": "stderr",
     "output_type": "stream",
     "text": [
      "/home/chris/Desktop/repos/llama2/.env/lib/python3.11/site-packages/tqdm/auto.py:21: TqdmWarning: IProgress not found. Please update jupyter and ipywidgets. See https://ipywidgets.readthedocs.io/en/stable/user_install.html\n",
      "  from .autonotebook import tqdm as notebook_tqdm\n"
     ]
    }
   ],
   "source": [
    "from llama2 import *\n",
    "from typing import List, Literal, Optional, Tuple, TypedDict\n",
    "from pprint import pprint\n",
    "import pandas as pd\n",
    "import numpy as np\n",
    "import datasets\n",
    "import evaluate\n",
    "\n",
    "from torch.utils.data import Dataset"
   ]
  },
  {
   "cell_type": "code",
   "execution_count": 2,
   "id": "b8128ea8",
   "metadata": {
    "execution": {
     "iopub.execute_input": "2023-08-08T17:11:03.847293Z",
     "iopub.status.busy": "2023-08-08T17:11:03.847103Z",
     "iopub.status.idle": "2023-08-08T17:11:03.849154Z",
     "shell.execute_reply": "2023-08-08T17:11:03.848860Z"
    },
    "papermill": {
     "duration": 0.005566,
     "end_time": "2023-08-08T17:11:03.850122",
     "exception": false,
     "start_time": "2023-08-08T17:11:03.844556",
     "status": "completed"
    },
    "tags": [
     "parameters"
    ]
   },
   "outputs": [],
   "source": [
    "model_size='int4'\n",
    "max_samples=100"
   ]
  },
  {
   "cell_type": "code",
   "execution_count": 3,
   "id": "1bf7d799",
   "metadata": {
    "execution": {
     "iopub.execute_input": "2023-08-08T17:11:03.855087Z",
     "iopub.status.busy": "2023-08-08T17:11:03.854904Z",
     "iopub.status.idle": "2023-08-08T17:11:03.856542Z",
     "shell.execute_reply": "2023-08-08T17:11:03.856301Z"
    },
    "papermill": {
     "duration": 0.005122,
     "end_time": "2023-08-08T17:11:03.857349",
     "exception": false,
     "start_time": "2023-08-08T17:11:03.852227",
     "status": "completed"
    },
    "tags": [
     "injected-parameters"
    ]
   },
   "outputs": [],
   "source": [
    "# Parameters\n",
    "model_size = \"int8\"\n",
    "max_samples = -1\n"
   ]
  },
  {
   "cell_type": "markdown",
   "id": "30bb3e9f",
   "metadata": {
    "papermill": {
     "duration": 0.002183,
     "end_time": "2023-08-08T17:11:03.861530",
     "exception": false,
     "start_time": "2023-08-08T17:11:03.859347",
     "status": "completed"
    },
    "tags": []
   },
   "source": [
    "## 1 - Load model"
   ]
  },
  {
   "cell_type": "code",
   "execution_count": 4,
   "id": "b1e4d5c8",
   "metadata": {
    "execution": {
     "iopub.execute_input": "2023-08-08T17:11:03.866429Z",
     "iopub.status.busy": "2023-08-08T17:11:03.866235Z",
     "iopub.status.idle": "2023-08-08T17:11:06.300162Z",
     "shell.execute_reply": "2023-08-08T17:11:06.299876Z"
    },
    "papermill": {
     "duration": 2.437431,
     "end_time": "2023-08-08T17:11:06.301012",
     "exception": false,
     "start_time": "2023-08-08T17:11:03.863581",
     "status": "completed"
    },
    "tags": []
   },
   "outputs": [
    {
     "name": "stderr",
     "output_type": "stream",
     "text": [
      "\r",
      "Loading checkpoint shards:   0%|                                                        | 0/2 [00:00<?, ?it/s]"
     ]
    },
    {
     "name": "stderr",
     "output_type": "stream",
     "text": [
      "\r",
      "Loading checkpoint shards:  50%|████████████████████████                        | 1/2 [00:01<00:01,  1.06s/it]"
     ]
    },
    {
     "name": "stderr",
     "output_type": "stream",
     "text": [
      "\r",
      "Loading checkpoint shards: 100%|████████████████████████████████████████████████| 2/2 [00:01<00:00,  1.48it/s]"
     ]
    },
    {
     "name": "stderr",
     "output_type": "stream",
     "text": [
      "\r",
      "Loading checkpoint shards: 100%|████████████████████████████████████████████████| 2/2 [00:01<00:00,  1.36it/s]"
     ]
    },
    {
     "name": "stderr",
     "output_type": "stream",
     "text": [
      "\n"
     ]
    }
   ],
   "source": [
    "model_name = \"meta-llama/Llama-2-7b-chat-hf\"\n",
    "\n",
    "model = LlamaModel(\n",
    "    model_name=model_name,\n",
    "    model_resolution=model_size\n",
    ")"
   ]
  },
  {
   "cell_type": "markdown",
   "id": "f676d486",
   "metadata": {
    "papermill": {
     "duration": 0.002347,
     "end_time": "2023-08-08T17:11:06.305796",
     "exception": false,
     "start_time": "2023-08-08T17:11:06.303449",
     "status": "completed"
    },
    "tags": []
   },
   "source": [
    "## 2 - Load data"
   ]
  },
  {
   "cell_type": "code",
   "execution_count": 5,
   "id": "d2fd6b9b",
   "metadata": {
    "execution": {
     "iopub.execute_input": "2023-08-08T17:11:06.311330Z",
     "iopub.status.busy": "2023-08-08T17:11:06.311167Z",
     "iopub.status.idle": "2023-08-08T17:11:07.396112Z",
     "shell.execute_reply": "2023-08-08T17:11:07.395673Z"
    },
    "papermill": {
     "duration": 1.089428,
     "end_time": "2023-08-08T17:11:07.397602",
     "exception": false,
     "start_time": "2023-08-08T17:11:06.308174",
     "status": "completed"
    },
    "tags": []
   },
   "outputs": [],
   "source": [
    "dataset = datasets.load_dataset('hellaswag', split='validation')"
   ]
  },
  {
   "cell_type": "code",
   "execution_count": 6,
   "id": "e955596f",
   "metadata": {
    "execution": {
     "iopub.execute_input": "2023-08-08T17:11:07.404600Z",
     "iopub.status.busy": "2023-08-08T17:11:07.404450Z",
     "iopub.status.idle": "2023-08-08T17:11:07.409945Z",
     "shell.execute_reply": "2023-08-08T17:11:07.409512Z"
    },
    "papermill": {
     "duration": 0.010408,
     "end_time": "2023-08-08T17:11:07.411426",
     "exception": false,
     "start_time": "2023-08-08T17:11:07.401018",
     "status": "completed"
    },
    "tags": []
   },
   "outputs": [
    {
     "data": {
      "text/plain": [
       "Dataset({\n",
       "    features: ['ind', 'activity_label', 'ctx_a', 'ctx_b', 'ctx', 'endings', 'source_id', 'split', 'split_type', 'label'],\n",
       "    num_rows: 10042\n",
       "})"
      ]
     },
     "execution_count": 6,
     "metadata": {},
     "output_type": "execute_result"
    }
   ],
   "source": [
    "dataset"
   ]
  },
  {
   "cell_type": "code",
   "execution_count": 7,
   "id": "3c3ea77c",
   "metadata": {
    "execution": {
     "iopub.execute_input": "2023-08-08T17:11:07.418003Z",
     "iopub.status.busy": "2023-08-08T17:11:07.417702Z",
     "iopub.status.idle": "2023-08-08T17:11:07.421644Z",
     "shell.execute_reply": "2023-08-08T17:11:07.421218Z"
    },
    "papermill": {
     "duration": 0.008585,
     "end_time": "2023-08-08T17:11:07.422882",
     "exception": false,
     "start_time": "2023-08-08T17:11:07.414297",
     "status": "completed"
    },
    "tags": []
   },
   "outputs": [
    {
     "data": {
      "text/plain": [
       "{'ind': 24,\n",
       " 'activity_label': 'Roof shingle removal',\n",
       " 'ctx_a': 'A man is sitting on a roof.',\n",
       " 'ctx_b': 'he',\n",
       " 'ctx': 'A man is sitting on a roof. he',\n",
       " 'endings': ['is using wrap to wrap a pair of skis.',\n",
       "  'is ripping level tiles off.',\n",
       "  \"is holding a rubik's cube.\",\n",
       "  'starts pulling up roofing on a roof.'],\n",
       " 'source_id': 'activitynet~v_-JhWjGDPHMY',\n",
       " 'split': 'val',\n",
       " 'split_type': 'indomain',\n",
       " 'label': '3'}"
      ]
     },
     "execution_count": 7,
     "metadata": {},
     "output_type": "execute_result"
    }
   ],
   "source": [
    "dataset[0]"
   ]
  },
  {
   "cell_type": "code",
   "execution_count": 8,
   "id": "f6af29f3",
   "metadata": {
    "execution": {
     "iopub.execute_input": "2023-08-08T17:11:07.430003Z",
     "iopub.status.busy": "2023-08-08T17:11:07.429570Z",
     "iopub.status.idle": "2023-08-08T17:11:07.896263Z",
     "shell.execute_reply": "2023-08-08T17:11:07.896020Z"
    },
    "papermill": {
     "duration": 0.471577,
     "end_time": "2023-08-08T17:11:07.897063",
     "exception": false,
     "start_time": "2023-08-08T17:11:07.425486",
     "status": "completed"
    },
    "tags": []
   },
   "outputs": [
    {
     "data": {
      "text/plain": [
       "(4, 4)"
      ]
     },
     "execution_count": 8,
     "metadata": {},
     "output_type": "execute_result"
    }
   ],
   "source": [
    "n_options = [len(x['endings']) for x in dataset]\n",
    "assert min(n_options) == max(n_options)\n",
    "max(n_options), min(n_options) # All endings in the dataset have exactly four options"
   ]
  },
  {
   "cell_type": "code",
   "execution_count": 9,
   "id": "f4ff1a99",
   "metadata": {
    "execution": {
     "iopub.execute_input": "2023-08-08T17:11:07.902975Z",
     "iopub.status.busy": "2023-08-08T17:11:07.902861Z",
     "iopub.status.idle": "2023-08-08T17:11:07.905434Z",
     "shell.execute_reply": "2023-08-08T17:11:07.905182Z"
    },
    "papermill": {
     "duration": 0.006503,
     "end_time": "2023-08-08T17:11:07.906247",
     "exception": false,
     "start_time": "2023-08-08T17:11:07.899744",
     "status": "completed"
    },
    "tags": []
   },
   "outputs": [
    {
     "name": "stdout",
     "output_type": "stream",
     "text": [
      "[INST] You are solving an entailment task, given the situation respond with the most appropriate completion. \n",
      "Think logically and step by step. [/INST]\n",
      "Canoeing. Two women in a child are shown in a canoe while a man pulls the canoe while standing in the water, with other individuals visible in the background. the child and a different man\n",
      "\n",
      "\ta) are then shown paddling down a river in a boat while a woman talks.\n",
      "\tb) are driving the canoe, they go down the river flowing side to side.\n",
      "\tc) sit in a canoe while the man paddles.\n",
      "\td) walking go down the rapids, while the man in his helicopter almost falls and goes out of canoehood.\n",
      "\n",
      "Answer:\n",
      "\n",
      "The correct answer is (\n"
     ]
    }
   ],
   "source": [
    "x = dataset[2]\n",
    "options = [f\"\\t{chr(ord('a')+i)}) {option}\" for i, option in enumerate(x['endings'])]\n",
    "endings = '\\n'.join(options)\n",
    "text = f'''\\\n",
    "{model.B_INST} You are solving an entailment task, given the situation respond with the most appropriate completion. \n",
    "Think logically and step by step. {model.E_INST}\n",
    "{x[\"activity_label\"]}. {x['ctx']}\n",
    "\n",
    "{endings}\n",
    "\n",
    "Answer:\n",
    "\n",
    "The correct answer is ('''\n",
    "\n",
    "print(text)"
   ]
  },
  {
   "cell_type": "code",
   "execution_count": 10,
   "id": "be834808",
   "metadata": {
    "execution": {
     "iopub.execute_input": "2023-08-08T17:11:07.912463Z",
     "iopub.status.busy": "2023-08-08T17:11:07.912192Z",
     "iopub.status.idle": "2023-08-08T17:11:19.295780Z",
     "shell.execute_reply": "2023-08-08T17:11:19.295449Z"
    },
    "papermill": {
     "duration": 11.387774,
     "end_time": "2023-08-08T17:11:19.296617",
     "exception": false,
     "start_time": "2023-08-08T17:11:07.908843",
     "status": "completed"
    },
    "tags": []
   },
   "outputs": [
    {
     "name": "stdout",
     "output_type": "stream",
     "text": [
      "<s> [INST] You are solving an entailment task, given the situation respond with the most appropriate completion. \n",
      "Think logically and step by step. [/INST]\n",
      "Canoeing. Two women in a child are shown in a canoe while a man pulls the canoe while standing in the water, with other individuals visible in the background. the child and a different man\n",
      "\n",
      "\ta) are then shown paddling down a river in a boat while a woman talks.\n",
      "\tb) are driving the canoe, they go down the river flowing side to side.\n",
      "\tc) sit in a canoe while the man paddles.\n",
      "\td) walking go down the rapids, while the man in his helicopter almost falls and goes out of canoehood.\n",
      "\n",
      "Answer:\n",
      "\n",
      "The correct answer is (b) are driving the canoe, they go down the river flowing side to side.\n",
      "\n",
      "Explanation:\n",
      "\n",
      "Based on the given situation, the most appropriate completion is (b) are driving the canoe, they go down the river flowing side to side. This is because the man is shown pulling the canoe while standing in the water, indicating that he is the one paddling the canoe. Additionally, the phrase \"down the river\" suggests that the canoe is moving in a direction parallel to the river's flow, which is consistent with the man paddling the canoe\n"
     ]
    }
   ],
   "source": [
    "output = model.generate(text)\n",
    "print(output)"
   ]
  },
  {
   "cell_type": "code",
   "execution_count": 11,
   "id": "2c125774",
   "metadata": {
    "execution": {
     "iopub.execute_input": "2023-08-08T17:11:19.303068Z",
     "iopub.status.busy": "2023-08-08T17:11:19.302948Z",
     "iopub.status.idle": "2023-08-08T17:11:19.305638Z",
     "shell.execute_reply": "2023-08-08T17:11:19.305391Z"
    },
    "papermill": {
     "duration": 0.006799,
     "end_time": "2023-08-08T17:11:19.306421",
     "exception": false,
     "start_time": "2023-08-08T17:11:19.299622",
     "status": "completed"
    },
    "tags": []
   },
   "outputs": [],
   "source": [
    "class HellaSwag(Dataset):\n",
    "    def __init__(self, split: str):\n",
    "        self.dataset = datasets.load_dataset('hellaswag', split='validation')\n",
    "\n",
    "    def __len__(self):\n",
    "        return len(self.dataset)\n",
    "    \n",
    "    def __getitem__(self, idx: int):\n",
    "        x = self.dataset[idx]\n",
    "        options = [f\"\\t{chr(ord('a')+i)}) {option}\" for i, option in enumerate(x['endings'])]\n",
    "        endings = '\\n'.join(options)\n",
    "        text = (f'{x[\"activity_label\"]} {x[\"ctx\"]}\\n\\n'\n",
    "                f'{endings}\\n\\n'\n",
    "                'Answer:\\n\\nThe correct answer is (')\n",
    "        \n",
    "        y = x['label']\n",
    "        return text, int(y)"
   ]
  },
  {
   "cell_type": "code",
   "execution_count": 12,
   "id": "2c7a67e0",
   "metadata": {
    "execution": {
     "iopub.execute_input": "2023-08-08T17:11:19.312643Z",
     "iopub.status.busy": "2023-08-08T17:11:19.312453Z",
     "iopub.status.idle": "2023-08-08T17:11:19.316828Z",
     "shell.execute_reply": "2023-08-08T17:11:19.316593Z"
    },
    "papermill": {
     "duration": 0.008353,
     "end_time": "2023-08-08T17:11:19.317565",
     "exception": false,
     "start_time": "2023-08-08T17:11:19.309212",
     "status": "completed"
    },
    "tags": []
   },
   "outputs": [],
   "source": [
    "def eval(model: LlamaModel, x):\n",
    "    with torch.no_grad():\n",
    "        tok_ids = model.tokenize(x)\n",
    "        output = model.model(tok_ids.to(model.model.device))\n",
    "        choices = model.tokenizer.convert_tokens_to_ids(['a','b','c','d'])\n",
    "        probs = torch.softmax(output['logits'][:,-1,choices], dim=1)\n",
    "    return probs.argmax().item(), probs.max().item()\n",
    "\n",
    "\n",
    "def eval_dataset(model, data, max_samples):\n",
    "    gt, pred, prob = [], [], []\n",
    "\n",
    "    limit = len(data)\n",
    "    if max_samples > 0:\n",
    "        limit = min([limit, max_samples])\n",
    "\n",
    "    for i in range(limit):\n",
    "        x, y = data[i]\n",
    "        res = eval(model, x)\n",
    "\n",
    "        gt.append(y)\n",
    "        pred.append(res[0])\n",
    "        prob.append(res[1])\n",
    "\n",
    "    df = pd.DataFrame({'y': gt, 'y_pred': pred, 'prob': prob})\n",
    "    return df\n",
    "\n",
    "\n",
    "def get_metrics(df: pd.DataFrame) -> Dict[str, float]:\n",
    "    accuracy = (df.y_pred == df.y).sum() / len(df)\n",
    "    \n",
    "    mat = torch.zeros(4,4, dtype=int)\n",
    "    for i in range(len(df)):\n",
    "        row = df.iloc[i]\n",
    "        mat[int(row.y_pred), int(row.y)] += 1\n",
    "\n",
    "    recall = [mat[i, i] / (mat[i, :].sum() + 1e-6) for i in range(4)]\n",
    "    precision = [mat[i, i] / (mat[:, i].sum() + 1e-6)for i in range(4)]\n",
    "\n",
    "    mp = sum(precision) / 4\n",
    "    mr = sum(recall) / 4\n",
    "\n",
    "    f1 = (2 * (mp * mr) / (mp + mr)).item()\n",
    "\n",
    "    return {'accuracy': f'{accuracy:.4f}', 'f1': f'{f1:.4f}'}"
   ]
  },
  {
   "cell_type": "markdown",
   "id": "4ee3e177",
   "metadata": {
    "papermill": {
     "duration": 0.002847,
     "end_time": "2023-08-08T17:11:19.323165",
     "exception": false,
     "start_time": "2023-08-08T17:11:19.320318",
     "status": "completed"
    },
    "tags": []
   },
   "source": [
    "## 3 - Run inference"
   ]
  },
  {
   "cell_type": "code",
   "execution_count": 13,
   "id": "bab86b19",
   "metadata": {
    "execution": {
     "iopub.execute_input": "2023-08-08T17:11:19.329696Z",
     "iopub.status.busy": "2023-08-08T17:11:19.329513Z",
     "iopub.status.idle": "2023-08-08T17:30:58.141287Z",
     "shell.execute_reply": "2023-08-08T17:30:58.140966Z"
    },
    "papermill": {
     "duration": 1178.818527,
     "end_time": "2023-08-08T17:30:58.144567",
     "exception": false,
     "start_time": "2023-08-08T17:11:19.326040",
     "status": "completed"
    },
    "tags": []
   },
   "outputs": [
    {
     "data": {
      "text/plain": [
       "count    10042.000000\n",
       "mean         0.482413\n",
       "std          0.174496\n",
       "min          0.253921\n",
       "25%          0.356611\n",
       "50%          0.427546\n",
       "75%          0.552486\n",
       "max          0.999993\n",
       "Name: prob, dtype: float64"
      ]
     },
     "execution_count": 13,
     "metadata": {},
     "output_type": "execute_result"
    }
   ],
   "source": [
    "df = eval_dataset(model, HellaSwag('validation'), max_samples)\n",
    "df.prob.describe()"
   ]
  },
  {
   "cell_type": "code",
   "execution_count": 14,
   "id": "ad06fb3a",
   "metadata": {
    "execution": {
     "iopub.execute_input": "2023-08-08T17:30:58.151391Z",
     "iopub.status.busy": "2023-08-08T17:30:58.151272Z",
     "iopub.status.idle": "2023-08-08T17:31:01.146321Z",
     "shell.execute_reply": "2023-08-08T17:31:01.146020Z"
    },
    "papermill": {
     "duration": 2.999445,
     "end_time": "2023-08-08T17:31:01.147150",
     "exception": false,
     "start_time": "2023-08-08T17:30:58.147705",
     "status": "completed"
    },
    "tags": []
   },
   "outputs": [
    {
     "name": "stdout",
     "output_type": "stream",
     "text": [
      "Class prob > 0.0: {'accuracy': '0.4094', 'f1': '0.4148'}\n"
     ]
    },
    {
     "name": "stdout",
     "output_type": "stream",
     "text": [
      "Class prob > 0.1: {'accuracy': '0.4094', 'f1': '0.4148'}\n"
     ]
    },
    {
     "name": "stdout",
     "output_type": "stream",
     "text": [
      "Class prob > 0.2: {'accuracy': '0.4094', 'f1': '0.4148'}\n"
     ]
    },
    {
     "name": "stdout",
     "output_type": "stream",
     "text": [
      "Class prob > 0.3: {'accuracy': '0.4174', 'f1': '0.4236'}\n"
     ]
    },
    {
     "name": "stdout",
     "output_type": "stream",
     "text": [
      "Class prob > 0.4: {'accuracy': '0.4837', 'f1': '0.4945'}\n",
      "Class prob > 0.5: {'accuracy': '0.5693', 'f1': '0.5819'}\n"
     ]
    },
    {
     "name": "stdout",
     "output_type": "stream",
     "text": [
      "Class prob > 0.6: {'accuracy': '0.6503', 'f1': '0.6592'}\n",
      "Class prob > 0.7: {'accuracy': '0.7219', 'f1': '0.7281'}\n",
      "Class prob > 0.8: {'accuracy': '0.7959', 'f1': '0.7990'}\n",
      "Class prob > 0.9: {'accuracy': '0.8515', 'f1': '0.8490'}\n"
     ]
    }
   ],
   "source": [
    "for precision in np.linspace(0,1,10, endpoint=False):\n",
    "    print(f'Class prob > {precision:.1f}: {get_metrics(df[df.prob > precision])}')"
   ]
  }
 ],
 "metadata": {
  "kernelspec": {
   "display_name": ".env",
   "language": "python",
   "name": "python3"
  },
  "language_info": {
   "codemirror_mode": {
    "name": "ipython",
    "version": 3
   },
   "file_extension": ".py",
   "mimetype": "text/x-python",
   "name": "python",
   "nbconvert_exporter": "python",
   "pygments_lexer": "ipython3",
   "version": "3.11.3"
  },
  "papermill": {
   "default_parameters": {},
   "duration": 1199.909209,
   "end_time": "2023-08-08T17:31:01.666743",
   "environment_variables": {},
   "exception": null,
   "input_path": "04_hellaswag.ipynb",
   "output_path": "outputs/04_hellaswag_int8.ipynb",
   "parameters": {
    "max_samples": -1,
    "model_size": "int8"
   },
   "start_time": "2023-08-08T17:11:01.757534",
   "version": "2.4.0"
  }
 },
 "nbformat": 4,
 "nbformat_minor": 5
}