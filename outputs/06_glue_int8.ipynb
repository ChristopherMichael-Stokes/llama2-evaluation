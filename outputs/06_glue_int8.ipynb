{
 "cells": [
  {
   "cell_type": "code",
   "execution_count": 1,
   "id": "3b843976",
   "metadata": {
    "execution": {
     "iopub.execute_input": "2023-08-09T03:05:18.349141Z",
     "iopub.status.busy": "2023-08-09T03:05:18.349004Z",
     "iopub.status.idle": "2023-08-09T03:05:19.897117Z",
     "shell.execute_reply": "2023-08-09T03:05:19.896814Z"
    },
    "papermill": {
     "duration": 1.552016,
     "end_time": "2023-08-09T03:05:19.898201",
     "exception": false,
     "start_time": "2023-08-09T03:05:18.346185",
     "status": "completed"
    },
    "tags": []
   },
   "outputs": [
    {
     "name": "stderr",
     "output_type": "stream",
     "text": [
      "/home/chris/Desktop/repos/llama2/.env/lib/python3.11/site-packages/tqdm/auto.py:21: TqdmWarning: IProgress not found. Please update jupyter and ipywidgets. See https://ipywidgets.readthedocs.io/en/stable/user_install.html\n",
      "  from .autonotebook import tqdm as notebook_tqdm\n"
     ]
    }
   ],
   "source": [
    "from llama2 import *\n",
    "from typing import List, Literal, Optional, Tuple, TypedDict\n",
    "import pandas as pd\n",
    "import numpy as np\n",
    "import datasets\n",
    "import string\n",
    "from evaluate import evaluator\n",
    "from evaluate import load\n",
    "\n",
    "from torch.utils.data import Dataset"
   ]
  },
  {
   "cell_type": "code",
   "execution_count": 2,
   "id": "84df502d",
   "metadata": {
    "execution": {
     "iopub.execute_input": "2023-08-09T03:05:19.902812Z",
     "iopub.status.busy": "2023-08-09T03:05:19.902620Z",
     "iopub.status.idle": "2023-08-09T03:05:19.904462Z",
     "shell.execute_reply": "2023-08-09T03:05:19.904243Z"
    },
    "papermill": {
     "duration": 0.005099,
     "end_time": "2023-08-09T03:05:19.905297",
     "exception": false,
     "start_time": "2023-08-09T03:05:19.900198",
     "status": "completed"
    },
    "tags": [
     "parameters"
    ]
   },
   "outputs": [],
   "source": [
    "model_size='int4'\n",
    "max_samples=-1"
   ]
  },
  {
   "cell_type": "code",
   "execution_count": 3,
   "id": "55f888c1",
   "metadata": {
    "execution": {
     "iopub.execute_input": "2023-08-09T03:05:19.909433Z",
     "iopub.status.busy": "2023-08-09T03:05:19.909314Z",
     "iopub.status.idle": "2023-08-09T03:05:19.911015Z",
     "shell.execute_reply": "2023-08-09T03:05:19.910801Z"
    },
    "papermill": {
     "duration": 0.004763,
     "end_time": "2023-08-09T03:05:19.911779",
     "exception": false,
     "start_time": "2023-08-09T03:05:19.907016",
     "status": "completed"
    },
    "tags": [
     "injected-parameters"
    ]
   },
   "outputs": [],
   "source": [
    "# Parameters\n",
    "model_size = \"int8\"\n",
    "max_samples = -1\n"
   ]
  },
  {
   "cell_type": "markdown",
   "id": "3ecb4e03",
   "metadata": {
    "papermill": {
     "duration": 0.001879,
     "end_time": "2023-08-09T03:05:19.915295",
     "exception": false,
     "start_time": "2023-08-09T03:05:19.913416",
     "status": "completed"
    },
    "tags": []
   },
   "source": [
    "## 1 - Load model"
   ]
  },
  {
   "cell_type": "code",
   "execution_count": 4,
   "id": "541c391f",
   "metadata": {
    "execution": {
     "iopub.execute_input": "2023-08-09T03:05:19.919689Z",
     "iopub.status.busy": "2023-08-09T03:05:19.919481Z",
     "iopub.status.idle": "2023-08-09T03:05:22.571367Z",
     "shell.execute_reply": "2023-08-09T03:05:22.571076Z"
    },
    "papermill": {
     "duration": 2.655314,
     "end_time": "2023-08-09T03:05:22.572462",
     "exception": false,
     "start_time": "2023-08-09T03:05:19.917148",
     "status": "completed"
    },
    "tags": []
   },
   "outputs": [
    {
     "name": "stderr",
     "output_type": "stream",
     "text": [
      "\r",
      "Loading checkpoint shards:   0%|                                                        | 0/2 [00:00<?, ?it/s]"
     ]
    },
    {
     "name": "stderr",
     "output_type": "stream",
     "text": [
      "\r",
      "Loading checkpoint shards:  50%|████████████████████████                        | 1/2 [00:01<00:01,  1.06s/it]"
     ]
    },
    {
     "name": "stderr",
     "output_type": "stream",
     "text": [
      "\r",
      "Loading checkpoint shards: 100%|████████████████████████████████████████████████| 2/2 [00:01<00:00,  1.48it/s]"
     ]
    },
    {
     "name": "stderr",
     "output_type": "stream",
     "text": [
      "\r",
      "Loading checkpoint shards: 100%|████████████████████████████████████████████████| 2/2 [00:01<00:00,  1.36it/s]"
     ]
    },
    {
     "name": "stderr",
     "output_type": "stream",
     "text": [
      "\n"
     ]
    }
   ],
   "source": [
    "#papermill_description=LOADING_MODEL\n",
    "model_name = \"meta-llama/Llama-2-7b-chat-hf\"\n",
    "\n",
    "model = LlamaModel(\n",
    "    model_name=model_name,\n",
    "    model_resolution=model_size\n",
    ")\n",
    "\n",
    "model.model.to = lambda x: x # Disable device copying"
   ]
  },
  {
   "cell_type": "markdown",
   "id": "aaf02963",
   "metadata": {
    "papermill": {
     "duration": 0.002113,
     "end_time": "2023-08-09T03:05:22.576942",
     "exception": false,
     "start_time": "2023-08-09T03:05:22.574829",
     "status": "completed"
    },
    "tags": []
   },
   "source": [
    "## 2 - Load dataset"
   ]
  },
  {
   "cell_type": "code",
   "execution_count": 5,
   "id": "cfb0d556",
   "metadata": {
    "execution": {
     "iopub.execute_input": "2023-08-09T03:05:22.582025Z",
     "iopub.status.busy": "2023-08-09T03:05:22.581902Z",
     "iopub.status.idle": "2023-08-09T03:05:23.927066Z",
     "shell.execute_reply": "2023-08-09T03:05:23.926739Z"
    },
    "papermill": {
     "duration": 1.349051,
     "end_time": "2023-08-09T03:05:23.928147",
     "exception": false,
     "start_time": "2023-08-09T03:05:22.579096",
     "status": "completed"
    },
    "tags": []
   },
   "outputs": [],
   "source": [
    "#papermill_description=LOADING_DATA\n",
    "dataset = datasets.load_dataset('glue', 'mnli', split='validation_matched')"
   ]
  },
  {
   "cell_type": "code",
   "execution_count": 6,
   "id": "6e3f7baf",
   "metadata": {
    "execution": {
     "iopub.execute_input": "2023-08-09T03:05:23.933392Z",
     "iopub.status.busy": "2023-08-09T03:05:23.933267Z",
     "iopub.status.idle": "2023-08-09T03:05:23.936704Z",
     "shell.execute_reply": "2023-08-09T03:05:23.936470Z"
    },
    "papermill": {
     "duration": 0.006985,
     "end_time": "2023-08-09T03:05:23.937514",
     "exception": false,
     "start_time": "2023-08-09T03:05:23.930529",
     "status": "completed"
    },
    "tags": []
   },
   "outputs": [
    {
     "data": {
      "text/plain": [
       "Dataset({\n",
       "    features: ['premise', 'hypothesis', 'label', 'idx'],\n",
       "    num_rows: 9815\n",
       "})"
      ]
     },
     "execution_count": 6,
     "metadata": {},
     "output_type": "execute_result"
    }
   ],
   "source": [
    "dataset"
   ]
  },
  {
   "cell_type": "code",
   "execution_count": 7,
   "id": "aa682a3b",
   "metadata": {
    "execution": {
     "iopub.execute_input": "2023-08-09T03:05:23.942495Z",
     "iopub.status.busy": "2023-08-09T03:05:23.942380Z",
     "iopub.status.idle": "2023-08-09T03:05:23.944732Z",
     "shell.execute_reply": "2023-08-09T03:05:23.944513Z"
    },
    "papermill": {
     "duration": 0.005755,
     "end_time": "2023-08-09T03:05:23.945459",
     "exception": false,
     "start_time": "2023-08-09T03:05:23.939704",
     "status": "completed"
    },
    "tags": []
   },
   "outputs": [
    {
     "data": {
      "text/plain": [
       "{'premise': \"well that would be a help i wish they would do that here we have got so little landfill space left that we're going to run out before the end of this decade and it's really going to be\",\n",
       " 'hypothesis': 'We have plenty of space in the landfill.',\n",
       " 'label': 2,\n",
       " 'idx': 5}"
      ]
     },
     "execution_count": 7,
     "metadata": {},
     "output_type": "execute_result"
    }
   ],
   "source": [
    "dataset[5]"
   ]
  },
  {
   "cell_type": "markdown",
   "id": "f37fb86d",
   "metadata": {
    "papermill": {
     "duration": 0.002328,
     "end_time": "2023-08-09T03:05:23.949829",
     "exception": false,
     "start_time": "2023-08-09T03:05:23.947501",
     "status": "completed"
    },
    "tags": []
   },
   "source": [
    "## 3 - Define data prep and model inference functions"
   ]
  },
  {
   "cell_type": "code",
   "execution_count": 8,
   "id": "4827f3f0",
   "metadata": {
    "execution": {
     "iopub.execute_input": "2023-08-09T03:05:23.955257Z",
     "iopub.status.busy": "2023-08-09T03:05:23.955036Z",
     "iopub.status.idle": "2023-08-09T03:05:23.959921Z",
     "shell.execute_reply": "2023-08-09T03:05:23.959549Z"
    },
    "papermill": {
     "duration": 0.008869,
     "end_time": "2023-08-09T03:05:23.961079",
     "exception": false,
     "start_time": "2023-08-09T03:05:23.952210",
     "status": "completed"
    },
    "tags": []
   },
   "outputs": [],
   "source": [
    "def format_question(sample: dict) -> str:\n",
    "    \"\"\"Format a sample from the squad V2 dataset to question answer string.\"\"\"\n",
    "    pretext = (f'{model.B_INST} You are performing natural language inference tasks. '\n",
    "               'Given a premise and hypothesis, decide whether we have an entailment, neutral or contradiction relation. '\n",
    "               'Only respond with the words \"The response is \" and one of \"neutral, contradiction, entailment\"'\n",
    "               f' {model.E_INST}\\n')  # Llama system directive\n",
    "    q_a = (f'Premise: {sample[\"premise\"]}\\n'\n",
    "         f'Hypothesis: {sample[\"hypothesis\"]}\\n'\n",
    "         f'Answer: \\n\\nThe response is:')\n",
    "    \n",
    "    return pretext + q_a\n",
    "\n",
    "\n",
    "def glue_inference(df: pd.DataFrame, model) -> pd.DataFrame:\n",
    "    \"\"\"Predict the output extracts for all samples in the input squad format dataset\"\"\"\n",
    "    df_val = df.copy(deep=True)\n",
    "    df['prediction'] = -1\n",
    "    df['prob'] = -1\n",
    "    \n",
    "    labels = ['neutral', 'entailment', 'contradiction']\n",
    "    label_ids = [model.tokenizer.encode(label, add_special_tokens=False)[0] for label in labels]\n",
    "\n",
    "    for idx in range(len(df)):\n",
    "        with torch.no_grad():\n",
    "            x = format_question(df.iloc[idx])\n",
    "            tokens = model.tokenize(x)\n",
    "            logits = model.model(tokens).logits\n",
    "            probs = torch.softmax(logits[:,-1,label_ids], dim=1)\n",
    "            \n",
    "        df_val.loc[idx, 'prediction'] = probs.argmax().item()\n",
    "        df_val.loc[idx, 'prob'] = probs.max().item()\n",
    "        \n",
    "    df_val.prediction = df_val.prediction.astype(int)\n",
    "    return df_val"
   ]
  },
  {
   "cell_type": "code",
   "execution_count": 9,
   "id": "1fb3c919",
   "metadata": {
    "execution": {
     "iopub.execute_input": "2023-08-09T03:05:23.967758Z",
     "iopub.status.busy": "2023-08-09T03:05:23.967553Z",
     "iopub.status.idle": "2023-08-09T03:23:26.071748Z",
     "shell.execute_reply": "2023-08-09T03:23:26.071401Z"
    },
    "papermill": {
     "duration": 1082.108558,
     "end_time": "2023-08-09T03:23:26.072761",
     "exception": false,
     "start_time": "2023-08-09T03:05:23.964203",
     "status": "completed"
    },
    "tags": []
   },
   "outputs": [],
   "source": [
    "#papermill_description=RUNNING_INFERENCE\n",
    "pd_dataset = dataset.to_pandas()\n",
    "if max_samples > 0 and max_samples < len(pd_dataset):\n",
    "    pd_dataset = pd_dataset.iloc[:max_samples - 1]\n",
    "df2 = glue_inference(pd_dataset, model)"
   ]
  },
  {
   "cell_type": "markdown",
   "id": "fb5997c0",
   "metadata": {
    "papermill": {
     "duration": 0.002401,
     "end_time": "2023-08-09T03:23:26.077840",
     "exception": false,
     "start_time": "2023-08-09T03:23:26.075439",
     "status": "completed"
    },
    "tags": []
   },
   "source": [
    "## 5 - Evaluate performance"
   ]
  },
  {
   "cell_type": "code",
   "execution_count": 10,
   "id": "c24f1cf5",
   "metadata": {
    "execution": {
     "iopub.execute_input": "2023-08-09T03:23:26.083473Z",
     "iopub.status.busy": "2023-08-09T03:23:26.083349Z",
     "iopub.status.idle": "2023-08-09T03:23:26.880895Z",
     "shell.execute_reply": "2023-08-09T03:23:26.880568Z"
    },
    "papermill": {
     "duration": 0.801451,
     "end_time": "2023-08-09T03:23:26.881736",
     "exception": false,
     "start_time": "2023-08-09T03:23:26.080285",
     "status": "completed"
    },
    "tags": []
   },
   "outputs": [
    {
     "name": "stdout",
     "output_type": "stream",
     "text": [
      "Class prob > 0.0: {'accuracy': 0.3598573611818645}\n",
      "Class prob > 0.1: {'accuracy': 0.3598573611818645}\n",
      "Class prob > 0.2: {'accuracy': 0.3598573611818645}\n",
      "Class prob > 0.3: {'accuracy': 0.3598573611818645}\n",
      "Class prob > 0.4: {'accuracy': 0.3599836834591067}\n",
      "Class prob > 0.5: {'accuracy': 0.359529702970297}\n",
      "Class prob > 0.6: {'accuracy': 0.3584225591010283}\n",
      "Class prob > 0.7: {'accuracy': 0.35939031028851387}\n",
      "Class prob > 0.8: {'accuracy': 0.3611801944381641}\n",
      "Class prob > 0.9: {'accuracy': 0.36538461538461536}\n"
     ]
    }
   ],
   "source": [
    "#papermill_description=EVALUATION\n",
    "glue_metric = load(\"glue\", \"mnli_matched\")\n",
    "\n",
    "for precision in np.linspace(0,1,10, endpoint=False):\n",
    "    df_filt = df2[df2.prob > precision]\n",
    "    \n",
    "    predictions = df_filt['prediction'].to_list()\n",
    "    answers = df_filt['label'].to_list()\n",
    "\n",
    "    results = glue_metric.compute(predictions=predictions, references=answers)\n",
    "    print(f'Class prob > {precision:.1f}: {results}')"
   ]
  },
  {
   "cell_type": "raw",
   "id": "fcd259ea",
   "metadata": {
    "papermill": {
     "duration": 0.002488,
     "end_time": "2023-08-09T03:23:26.887518",
     "exception": false,
     "start_time": "2023-08-09T03:23:26.885030",
     "status": "completed"
    },
    "tags": []
   },
   "source": []
  }
 ],
 "metadata": {
  "kernelspec": {
   "display_name": ".env",
   "language": "python",
   "name": "python3"
  },
  "language_info": {
   "codemirror_mode": {
    "name": "ipython",
    "version": 3
   },
   "file_extension": ".py",
   "mimetype": "text/x-python",
   "name": "python",
   "nbconvert_exporter": "python",
   "pygments_lexer": "ipython3",
   "version": "3.11.3"
  },
  "papermill": {
   "default_parameters": {},
   "duration": 1089.745666,
   "end_time": "2023-08-09T03:23:27.405318",
   "environment_variables": {},
   "exception": null,
   "input_path": "06_glue.ipynb",
   "output_path": "outputs/06_glue_int8.ipynb",
   "parameters": {
    "max_samples": -1,
    "model_size": "int8"
   },
   "start_time": "2023-08-09T03:05:17.659652",
   "version": "2.4.0"
  }
 },
 "nbformat": 4,
 "nbformat_minor": 5
}