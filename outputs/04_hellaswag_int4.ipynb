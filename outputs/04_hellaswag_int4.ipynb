{
 "cells": [
  {
   "cell_type": "code",
   "execution_count": 1,
   "id": "071ea7d8",
   "metadata": {
    "execution": {
     "iopub.execute_input": "2023-08-08T16:44:25.881613Z",
     "iopub.status.busy": "2023-08-08T16:44:25.881496Z",
     "iopub.status.idle": "2023-08-08T16:44:27.448658Z",
     "shell.execute_reply": "2023-08-08T16:44:27.448316Z"
    },
    "papermill": {
     "duration": 1.57052,
     "end_time": "2023-08-08T16:44:27.449738",
     "exception": false,
     "start_time": "2023-08-08T16:44:25.879218",
     "status": "completed"
    },
    "tags": []
   },
   "outputs": [
    {
     "name": "stderr",
     "output_type": "stream",
     "text": [
      "/home/chris/Desktop/repos/llama2/.env/lib/python3.11/site-packages/tqdm/auto.py:21: TqdmWarning: IProgress not found. Please update jupyter and ipywidgets. See https://ipywidgets.readthedocs.io/en/stable/user_install.html\n",
      "  from .autonotebook import tqdm as notebook_tqdm\n"
     ]
    }
   ],
   "source": [
    "from llama2 import *\n",
    "from typing import List, Literal, Optional, Tuple, TypedDict\n",
    "from pprint import pprint\n",
    "import pandas as pd\n",
    "import numpy as np\n",
    "import datasets\n",
    "import evaluate\n",
    "\n",
    "from torch.utils.data import Dataset"
   ]
  },
  {
   "cell_type": "code",
   "execution_count": 2,
   "id": "f457bbcd",
   "metadata": {
    "execution": {
     "iopub.execute_input": "2023-08-08T16:44:27.453709Z",
     "iopub.status.busy": "2023-08-08T16:44:27.453511Z",
     "iopub.status.idle": "2023-08-08T16:44:27.455275Z",
     "shell.execute_reply": "2023-08-08T16:44:27.455048Z"
    },
    "papermill": {
     "duration": 0.00436,
     "end_time": "2023-08-08T16:44:27.455908",
     "exception": false,
     "start_time": "2023-08-08T16:44:27.451548",
     "status": "completed"
    },
    "tags": [
     "parameters"
    ]
   },
   "outputs": [],
   "source": [
    "model_size='int4'\n",
    "max_samples=100"
   ]
  },
  {
   "cell_type": "code",
   "execution_count": 3,
   "id": "bed22357",
   "metadata": {
    "execution": {
     "iopub.execute_input": "2023-08-08T16:44:27.459248Z",
     "iopub.status.busy": "2023-08-08T16:44:27.459061Z",
     "iopub.status.idle": "2023-08-08T16:44:27.460733Z",
     "shell.execute_reply": "2023-08-08T16:44:27.460520Z"
    },
    "papermill": {
     "duration": 0.004028,
     "end_time": "2023-08-08T16:44:27.461328",
     "exception": false,
     "start_time": "2023-08-08T16:44:27.457300",
     "status": "completed"
    },
    "tags": [
     "injected-parameters"
    ]
   },
   "outputs": [],
   "source": [
    "# Parameters\n",
    "model_size = \"int4\"\n",
    "max_samples = -1\n"
   ]
  },
  {
   "cell_type": "markdown",
   "id": "ff8ac516",
   "metadata": {
    "papermill": {
     "duration": 0.001379,
     "end_time": "2023-08-08T16:44:27.464132",
     "exception": false,
     "start_time": "2023-08-08T16:44:27.462753",
     "status": "completed"
    },
    "tags": []
   },
   "source": [
    "## 1 - Load model"
   ]
  },
  {
   "cell_type": "code",
   "execution_count": 4,
   "id": "5ae68479",
   "metadata": {
    "execution": {
     "iopub.execute_input": "2023-08-08T16:44:27.467408Z",
     "iopub.status.busy": "2023-08-08T16:44:27.467217Z",
     "iopub.status.idle": "2023-08-08T16:44:29.905976Z",
     "shell.execute_reply": "2023-08-08T16:44:29.905667Z"
    },
    "papermill": {
     "duration": 2.441229,
     "end_time": "2023-08-08T16:44:29.906732",
     "exception": false,
     "start_time": "2023-08-08T16:44:27.465503",
     "status": "completed"
    },
    "tags": []
   },
   "outputs": [
    {
     "name": "stderr",
     "output_type": "stream",
     "text": [
      "\r",
      "Loading checkpoint shards:   0%|                                                                                                                            | 0/2 [00:00<?, ?it/s]"
     ]
    },
    {
     "name": "stderr",
     "output_type": "stream",
     "text": [
      "\r",
      "Loading checkpoint shards:  50%|██████████████████████████████████████████████████████████                                                          | 1/2 [00:01<00:01,  1.07s/it]"
     ]
    },
    {
     "name": "stderr",
     "output_type": "stream",
     "text": [
      "\r",
      "Loading checkpoint shards: 100%|████████████████████████████████████████████████████████████████████████████████████████████████████████████████████| 2/2 [00:01<00:00,  1.47it/s]"
     ]
    },
    {
     "name": "stderr",
     "output_type": "stream",
     "text": [
      "\r",
      "Loading checkpoint shards: 100%|████████████████████████████████████████████████████████████████████████████████████████████████████████████████████| 2/2 [00:01<00:00,  1.35it/s]"
     ]
    },
    {
     "name": "stderr",
     "output_type": "stream",
     "text": [
      "\n"
     ]
    }
   ],
   "source": [
    "model_name = \"meta-llama/Llama-2-7b-chat-hf\"\n",
    "\n",
    "model = LlamaModel(\n",
    "    model_name=model_name,\n",
    "    model_resolution=model_size\n",
    ")"
   ]
  },
  {
   "cell_type": "markdown",
   "id": "92c5df9d",
   "metadata": {
    "papermill": {
     "duration": 0.001939,
     "end_time": "2023-08-08T16:44:29.910568",
     "exception": false,
     "start_time": "2023-08-08T16:44:29.908629",
     "status": "completed"
    },
    "tags": []
   },
   "source": [
    "## 2 - Load data"
   ]
  },
  {
   "cell_type": "code",
   "execution_count": 5,
   "id": "69e711e4",
   "metadata": {
    "execution": {
     "iopub.execute_input": "2023-08-08T16:44:29.916090Z",
     "iopub.status.busy": "2023-08-08T16:44:29.915963Z",
     "iopub.status.idle": "2023-08-08T16:44:31.120224Z",
     "shell.execute_reply": "2023-08-08T16:44:31.119900Z"
    },
    "papermill": {
     "duration": 1.208251,
     "end_time": "2023-08-08T16:44:31.121304",
     "exception": false,
     "start_time": "2023-08-08T16:44:29.913053",
     "status": "completed"
    },
    "tags": []
   },
   "outputs": [],
   "source": [
    "dataset = datasets.load_dataset('hellaswag', split='validation')"
   ]
  },
  {
   "cell_type": "code",
   "execution_count": 6,
   "id": "1a184a3c",
   "metadata": {
    "execution": {
     "iopub.execute_input": "2023-08-08T16:44:31.128634Z",
     "iopub.status.busy": "2023-08-08T16:44:31.128433Z",
     "iopub.status.idle": "2023-08-08T16:44:31.133265Z",
     "shell.execute_reply": "2023-08-08T16:44:31.132839Z"
    },
    "papermill": {
     "duration": 0.01014,
     "end_time": "2023-08-08T16:44:31.134567",
     "exception": false,
     "start_time": "2023-08-08T16:44:31.124427",
     "status": "completed"
    },
    "tags": []
   },
   "outputs": [
    {
     "data": {
      "text/plain": [
       "Dataset({\n",
       "    features: ['ind', 'activity_label', 'ctx_a', 'ctx_b', 'ctx', 'endings', 'source_id', 'split', 'split_type', 'label'],\n",
       "    num_rows: 10042\n",
       "})"
      ]
     },
     "execution_count": 6,
     "metadata": {},
     "output_type": "execute_result"
    }
   ],
   "source": [
    "dataset"
   ]
  },
  {
   "cell_type": "code",
   "execution_count": 7,
   "id": "435c86a5",
   "metadata": {
    "execution": {
     "iopub.execute_input": "2023-08-08T16:44:31.141751Z",
     "iopub.status.busy": "2023-08-08T16:44:31.141475Z",
     "iopub.status.idle": "2023-08-08T16:44:31.145470Z",
     "shell.execute_reply": "2023-08-08T16:44:31.145046Z"
    },
    "papermill": {
     "duration": 0.008803,
     "end_time": "2023-08-08T16:44:31.146832",
     "exception": false,
     "start_time": "2023-08-08T16:44:31.138029",
     "status": "completed"
    },
    "tags": []
   },
   "outputs": [
    {
     "data": {
      "text/plain": [
       "{'ind': 24,\n",
       " 'activity_label': 'Roof shingle removal',\n",
       " 'ctx_a': 'A man is sitting on a roof.',\n",
       " 'ctx_b': 'he',\n",
       " 'ctx': 'A man is sitting on a roof. he',\n",
       " 'endings': ['is using wrap to wrap a pair of skis.',\n",
       "  'is ripping level tiles off.',\n",
       "  \"is holding a rubik's cube.\",\n",
       "  'starts pulling up roofing on a roof.'],\n",
       " 'source_id': 'activitynet~v_-JhWjGDPHMY',\n",
       " 'split': 'val',\n",
       " 'split_type': 'indomain',\n",
       " 'label': '3'}"
      ]
     },
     "execution_count": 7,
     "metadata": {},
     "output_type": "execute_result"
    }
   ],
   "source": [
    "dataset[0]"
   ]
  },
  {
   "cell_type": "code",
   "execution_count": 8,
   "id": "20bc7e10",
   "metadata": {
    "execution": {
     "iopub.execute_input": "2023-08-08T16:44:31.154464Z",
     "iopub.status.busy": "2023-08-08T16:44:31.154083Z",
     "iopub.status.idle": "2023-08-08T16:44:31.641995Z",
     "shell.execute_reply": "2023-08-08T16:44:31.641745Z"
    },
    "papermill": {
     "duration": 0.492504,
     "end_time": "2023-08-08T16:44:31.642691",
     "exception": false,
     "start_time": "2023-08-08T16:44:31.150187",
     "status": "completed"
    },
    "tags": []
   },
   "outputs": [
    {
     "data": {
      "text/plain": [
       "(4, 4)"
      ]
     },
     "execution_count": 8,
     "metadata": {},
     "output_type": "execute_result"
    }
   ],
   "source": [
    "n_options = [len(x['endings']) for x in dataset]\n",
    "assert min(n_options) == max(n_options)\n",
    "max(n_options), min(n_options) # All endings in the dataset have exactly four options"
   ]
  },
  {
   "cell_type": "code",
   "execution_count": 9,
   "id": "5250dd28",
   "metadata": {
    "execution": {
     "iopub.execute_input": "2023-08-08T16:44:31.647307Z",
     "iopub.status.busy": "2023-08-08T16:44:31.647151Z",
     "iopub.status.idle": "2023-08-08T16:44:31.649950Z",
     "shell.execute_reply": "2023-08-08T16:44:31.649717Z"
    },
    "papermill": {
     "duration": 0.005817,
     "end_time": "2023-08-08T16:44:31.650679",
     "exception": false,
     "start_time": "2023-08-08T16:44:31.644862",
     "status": "completed"
    },
    "tags": []
   },
   "outputs": [
    {
     "name": "stdout",
     "output_type": "stream",
     "text": [
      "[INST] You are solving an entailment task, given the situation respond with the most appropriate completion. \n",
      "Think logically and step by step. [/INST]\n",
      "Canoeing. Two women in a child are shown in a canoe while a man pulls the canoe while standing in the water, with other individuals visible in the background. the child and a different man\n",
      "\n",
      "\ta) are then shown paddling down a river in a boat while a woman talks.\n",
      "\tb) are driving the canoe, they go down the river flowing side to side.\n",
      "\tc) sit in a canoe while the man paddles.\n",
      "\td) walking go down the rapids, while the man in his helicopter almost falls and goes out of canoehood.\n",
      "\n",
      "Answer:\n",
      "\n",
      "The correct answer is (\n"
     ]
    }
   ],
   "source": [
    "x = dataset[2]\n",
    "options = [f\"\\t{chr(ord('a')+i)}) {option}\" for i, option in enumerate(x['endings'])]\n",
    "endings = '\\n'.join(options)\n",
    "text = f'''\\\n",
    "{model.B_INST} You are solving an entailment task, given the situation respond with the most appropriate completion. \n",
    "Think logically and step by step. {model.E_INST}\n",
    "{x[\"activity_label\"]}. {x['ctx']}\n",
    "\n",
    "{endings}\n",
    "\n",
    "Answer:\n",
    "\n",
    "The correct answer is ('''\n",
    "\n",
    "print(text)"
   ]
  },
  {
   "cell_type": "code",
   "execution_count": 10,
   "id": "16045332",
   "metadata": {
    "execution": {
     "iopub.execute_input": "2023-08-08T16:44:31.656178Z",
     "iopub.status.busy": "2023-08-08T16:44:31.655987Z",
     "iopub.status.idle": "2023-08-08T16:44:36.500385Z",
     "shell.execute_reply": "2023-08-08T16:44:36.500053Z"
    },
    "papermill": {
     "duration": 4.848203,
     "end_time": "2023-08-08T16:44:36.501242",
     "exception": false,
     "start_time": "2023-08-08T16:44:31.653039",
     "status": "completed"
    },
    "tags": []
   },
   "outputs": [
    {
     "name": "stdout",
     "output_type": "stream",
     "text": [
      "<s> [INST] You are solving an entailment task, given the situation respond with the most appropriate completion. \n",
      "Think logically and step by step. [/INST]\n",
      "Canoeing. Two women in a child are shown in a canoe while a man pulls the canoe while standing in the water, with other individuals visible in the background. the child and a different man\n",
      "\n",
      "\ta) are then shown paddling down a river in a boat while a woman talks.\n",
      "\tb) are driving the canoe, they go down the river flowing side to side.\n",
      "\tc) sit in a canoe while the man paddles.\n",
      "\td) walking go down the rapids, while the man in his helicopter almost falls and goes out of canoehood.\n",
      "\n",
      "Answer:\n",
      "\n",
      "The correct answer is (b) are driving the canoe, they go down the river flowing side to side.\n",
      "\n",
      "Explanation:\n",
      "\n",
      "The situation in the image shows two women in a canoe, with a man standing in the water and pulling the canoe. This suggests that the women are paddling the canoe themselves. The image does not show the man paddling, but rather pulling the canoe from behind. Therefore, the most appropriate completion is (b) are driving the canoe, they go down the river flowing side to side. This option matches the visual information provided in the image and makes logical sense\n"
     ]
    }
   ],
   "source": [
    "output = model.generate(text)\n",
    "print(output)"
   ]
  },
  {
   "cell_type": "code",
   "execution_count": 11,
   "id": "37ed5d16",
   "metadata": {
    "execution": {
     "iopub.execute_input": "2023-08-08T16:44:36.508079Z",
     "iopub.status.busy": "2023-08-08T16:44:36.507957Z",
     "iopub.status.idle": "2023-08-08T16:44:36.510801Z",
     "shell.execute_reply": "2023-08-08T16:44:36.510559Z"
    },
    "papermill": {
     "duration": 0.007305,
     "end_time": "2023-08-08T16:44:36.511805",
     "exception": false,
     "start_time": "2023-08-08T16:44:36.504500",
     "status": "completed"
    },
    "tags": []
   },
   "outputs": [],
   "source": [
    "class HellaSwag(Dataset):\n",
    "    def __init__(self, split: str):\n",
    "        self.dataset = datasets.load_dataset('hellaswag', split='validation')\n",
    "\n",
    "    def __len__(self):\n",
    "        return len(self.dataset)\n",
    "    \n",
    "    def __getitem__(self, idx: int):\n",
    "        x = self.dataset[idx]\n",
    "        options = [f\"\\t{chr(ord('a')+i)}) {option}\" for i, option in enumerate(x['endings'])]\n",
    "        endings = '\\n'.join(options)\n",
    "        text = (f'{x[\"activity_label\"]} {x[\"ctx\"]}\\n\\n'\n",
    "                f'{endings}\\n\\n'\n",
    "                'Answer:\\n\\nThe correct answer is (')\n",
    "        \n",
    "        y = x['label']\n",
    "        return text, int(y)"
   ]
  },
  {
   "cell_type": "code",
   "execution_count": 12,
   "id": "3b1f1ea1",
   "metadata": {
    "execution": {
     "iopub.execute_input": "2023-08-08T16:44:36.518114Z",
     "iopub.status.busy": "2023-08-08T16:44:36.517910Z",
     "iopub.status.idle": "2023-08-08T16:44:36.522345Z",
     "shell.execute_reply": "2023-08-08T16:44:36.522101Z"
    },
    "papermill": {
     "duration": 0.008573,
     "end_time": "2023-08-08T16:44:36.523036",
     "exception": false,
     "start_time": "2023-08-08T16:44:36.514463",
     "status": "completed"
    },
    "tags": []
   },
   "outputs": [],
   "source": [
    "def eval(model: LlamaModel, x):\n",
    "    with torch.no_grad():\n",
    "        tok_ids = model.tokenize(x)\n",
    "        output = model.model(tok_ids.to(model.model.device))\n",
    "        choices = model.tokenizer.convert_tokens_to_ids(['a','b','c','d'])\n",
    "        probs = torch.softmax(output['logits'][:,-1,choices], dim=1)\n",
    "    return probs.argmax().item(), probs.max().item()\n",
    "\n",
    "\n",
    "def eval_dataset(model, data, max_samples):\n",
    "    gt, pred, prob = [], [], []\n",
    "\n",
    "    limit = len(data)\n",
    "    if max_samples > 0:\n",
    "        limit = min([limit, max_samples])\n",
    "\n",
    "    for i in range(limit):\n",
    "        x, y = data[i]\n",
    "        res = eval(model, x)\n",
    "\n",
    "        gt.append(y)\n",
    "        pred.append(res[0])\n",
    "        prob.append(res[1])\n",
    "\n",
    "    df = pd.DataFrame({'y': gt, 'y_pred': pred, 'prob': prob})\n",
    "    return df\n",
    "\n",
    "\n",
    "def get_metrics(df: pd.DataFrame) -> Dict[str, float]:\n",
    "    accuracy = (df.y_pred == df.y).sum() / len(df)\n",
    "    \n",
    "    mat = torch.zeros(4,4, dtype=int)\n",
    "    for i in range(len(df)):\n",
    "        row = df.iloc[i]\n",
    "        mat[int(row.y_pred), int(row.y)] += 1\n",
    "\n",
    "    recall = [mat[i, i] / (mat[i, :].sum() + 1e-6) for i in range(4)]\n",
    "    precision = [mat[i, i] / (mat[:, i].sum() + 1e-6)for i in range(4)]\n",
    "\n",
    "    mp = sum(precision) / 4\n",
    "    mr = sum(recall) / 4\n",
    "\n",
    "    f1 = (2 * (mp * mr) / (mp + mr)).item()\n",
    "\n",
    "    return {'accuracy': f'{accuracy:.4f}', 'f1': f'{f1:.4f}'}"
   ]
  },
  {
   "cell_type": "markdown",
   "id": "9eae3f14",
   "metadata": {
    "papermill": {
     "duration": 0.002878,
     "end_time": "2023-08-08T16:44:36.528713",
     "exception": false,
     "start_time": "2023-08-08T16:44:36.525835",
     "status": "completed"
    },
    "tags": []
   },
   "source": [
    "## 3 - Run inference"
   ]
  },
  {
   "cell_type": "code",
   "execution_count": 13,
   "id": "4280f039",
   "metadata": {
    "execution": {
     "iopub.execute_input": "2023-08-08T16:44:36.535213Z",
     "iopub.status.busy": "2023-08-08T16:44:36.535021Z",
     "iopub.status.idle": "2023-08-08T17:10:58.213326Z",
     "shell.execute_reply": "2023-08-08T17:10:58.213017Z"
    },
    "papermill": {
     "duration": 1581.684957,
     "end_time": "2023-08-08T17:10:58.216555",
     "exception": false,
     "start_time": "2023-08-08T16:44:36.531598",
     "status": "completed"
    },
    "tags": []
   },
   "outputs": [
    {
     "data": {
      "text/plain": [
       "count    10042.000000\n",
       "mean         0.496284\n",
       "std          0.153962\n",
       "min          0.260565\n",
       "25%          0.387699\n",
       "50%          0.456338\n",
       "75%          0.560352\n",
       "max          0.999991\n",
       "Name: prob, dtype: float64"
      ]
     },
     "execution_count": 13,
     "metadata": {},
     "output_type": "execute_result"
    }
   ],
   "source": [
    "df = eval_dataset(model, HellaSwag('validation'), max_samples)\n",
    "df.prob.describe()"
   ]
  },
  {
   "cell_type": "code",
   "execution_count": 14,
   "id": "eaf6b418",
   "metadata": {
    "execution": {
     "iopub.execute_input": "2023-08-08T17:10:58.223431Z",
     "iopub.status.busy": "2023-08-08T17:10:58.223311Z",
     "iopub.status.idle": "2023-08-08T17:11:01.229192Z",
     "shell.execute_reply": "2023-08-08T17:11:01.228902Z"
    },
    "papermill": {
     "duration": 3.01019,
     "end_time": "2023-08-08T17:11:01.229982",
     "exception": false,
     "start_time": "2023-08-08T17:10:58.219792",
     "status": "completed"
    },
    "tags": []
   },
   "outputs": [
    {
     "name": "stdout",
     "output_type": "stream",
     "text": [
      "Class prob > 0.0: {'accuracy': '0.3821', 'f1': '0.4091'}\n"
     ]
    },
    {
     "name": "stdout",
     "output_type": "stream",
     "text": [
      "Class prob > 0.1: {'accuracy': '0.3821', 'f1': '0.4091'}\n"
     ]
    },
    {
     "name": "stdout",
     "output_type": "stream",
     "text": [
      "Class prob > 0.2: {'accuracy': '0.3821', 'f1': '0.4091'}\n"
     ]
    },
    {
     "name": "stdout",
     "output_type": "stream",
     "text": [
      "Class prob > 0.3: {'accuracy': '0.3841', 'f1': '0.4116'}\n"
     ]
    },
    {
     "name": "stdout",
     "output_type": "stream",
     "text": [
      "Class prob > 0.4: {'accuracy': '0.4285', 'f1': '0.4521'}\n"
     ]
    },
    {
     "name": "stdout",
     "output_type": "stream",
     "text": [
      "Class prob > 0.5: {'accuracy': '0.5187', 'f1': '0.5341'}\n",
      "Class prob > 0.6: {'accuracy': '0.6352', 'f1': '0.6483'}\n",
      "Class prob > 0.7: {'accuracy': '0.7220', 'f1': '0.7297'}\n",
      "Class prob > 0.8: {'accuracy': '0.7907', 'f1': '0.7909'}\n"
     ]
    },
    {
     "name": "stdout",
     "output_type": "stream",
     "text": [
      "Class prob > 0.9: {'accuracy': '0.8418', 'f1': '0.8384'}\n"
     ]
    }
   ],
   "source": [
    "for precision in np.linspace(0,1,10, endpoint=False):\n",
    "    print(f'Class prob > {precision:.1f}: {get_metrics(df[df.prob > precision])}')"
   ]
  }
 ],
 "metadata": {
  "kernelspec": {
   "display_name": ".env",
   "language": "python",
   "name": "python3"
  },
  "language_info": {
   "codemirror_mode": {
    "name": "ipython",
    "version": 3
   },
   "file_extension": ".py",
   "mimetype": "text/x-python",
   "name": "python",
   "nbconvert_exporter": "python",
   "pygments_lexer": "ipython3",
   "version": "3.11.3"
  },
  "papermill": {
   "default_parameters": {},
   "duration": 1596.577397,
   "end_time": "2023-08-08T17:11:01.748505",
   "environment_variables": {},
   "exception": null,
   "input_path": "04_hellaswag.ipynb",
   "output_path": "outputs/04_hellaswag_int4.ipynb",
   "parameters": {
    "max_samples": -1,
    "model_size": "int4"
   },
   "start_time": "2023-08-08T16:44:25.171108",
   "version": "2.4.0"
  }
 },
 "nbformat": 4,
 "nbformat_minor": 5
}