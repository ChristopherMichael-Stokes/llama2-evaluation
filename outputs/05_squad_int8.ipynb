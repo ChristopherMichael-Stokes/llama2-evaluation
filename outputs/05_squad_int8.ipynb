{
 "cells": [
  {
   "cell_type": "code",
   "execution_count": 1,
   "id": "415aae2d",
   "metadata": {
    "execution": {
     "iopub.execute_input": "2023-08-08T20:10:49.068646Z",
     "iopub.status.busy": "2023-08-08T20:10:49.068488Z",
     "iopub.status.idle": "2023-08-08T20:10:50.591030Z",
     "shell.execute_reply": "2023-08-08T20:10:50.590680Z"
    },
    "papermill": {
     "duration": 1.526516,
     "end_time": "2023-08-08T20:10:50.592076",
     "exception": false,
     "start_time": "2023-08-08T20:10:49.065560",
     "status": "completed"
    },
    "tags": []
   },
   "outputs": [
    {
     "name": "stderr",
     "output_type": "stream",
     "text": [
      "/home/chris/Desktop/repos/llama2/.env/lib/python3.11/site-packages/tqdm/auto.py:21: TqdmWarning: IProgress not found. Please update jupyter and ipywidgets. See https://ipywidgets.readthedocs.io/en/stable/user_install.html\n",
      "  from .autonotebook import tqdm as notebook_tqdm\n"
     ]
    }
   ],
   "source": [
    "from llama2 import *\n",
    "from typing import List, Literal, Optional, Tuple, TypedDict\n",
    "import pandas as pd\n",
    "import datasets\n",
    "import string\n",
    "from evaluate import evaluator\n",
    "from evaluate import load\n",
    "\n",
    "from torch.utils.data import Dataset"
   ]
  },
  {
   "cell_type": "code",
   "execution_count": 2,
   "id": "081dc3f7",
   "metadata": {
    "execution": {
     "iopub.execute_input": "2023-08-08T20:10:50.597083Z",
     "iopub.status.busy": "2023-08-08T20:10:50.596890Z",
     "iopub.status.idle": "2023-08-08T20:10:50.598715Z",
     "shell.execute_reply": "2023-08-08T20:10:50.598486Z"
    },
    "papermill": {
     "duration": 0.005214,
     "end_time": "2023-08-08T20:10:50.599433",
     "exception": false,
     "start_time": "2023-08-08T20:10:50.594219",
     "status": "completed"
    },
    "tags": [
     "parameters"
    ]
   },
   "outputs": [],
   "source": [
    "model_size='int8'\n",
    "max_samples=10"
   ]
  },
  {
   "cell_type": "code",
   "execution_count": 3,
   "id": "3d5a9327",
   "metadata": {
    "execution": {
     "iopub.execute_input": "2023-08-08T20:10:50.602794Z",
     "iopub.status.busy": "2023-08-08T20:10:50.602672Z",
     "iopub.status.idle": "2023-08-08T20:10:50.604443Z",
     "shell.execute_reply": "2023-08-08T20:10:50.604162Z"
    },
    "papermill": {
     "duration": 0.004345,
     "end_time": "2023-08-08T20:10:50.605170",
     "exception": false,
     "start_time": "2023-08-08T20:10:50.600825",
     "status": "completed"
    },
    "tags": [
     "injected-parameters"
    ]
   },
   "outputs": [],
   "source": [
    "# Parameters\n",
    "model_size = \"int8\"\n",
    "max_samples = -1\n"
   ]
  },
  {
   "cell_type": "markdown",
   "id": "833228da",
   "metadata": {
    "papermill": {
     "duration": 0.001364,
     "end_time": "2023-08-08T20:10:50.607989",
     "exception": false,
     "start_time": "2023-08-08T20:10:50.606625",
     "status": "completed"
    },
    "tags": []
   },
   "source": [
    "## 1 - Load model"
   ]
  },
  {
   "cell_type": "code",
   "execution_count": 4,
   "id": "fcbccc8e",
   "metadata": {
    "execution": {
     "iopub.execute_input": "2023-08-08T20:10:50.611391Z",
     "iopub.status.busy": "2023-08-08T20:10:50.611203Z",
     "iopub.status.idle": "2023-08-08T20:10:53.142216Z",
     "shell.execute_reply": "2023-08-08T20:10:53.141932Z"
    },
    "papermill": {
     "duration": 2.533697,
     "end_time": "2023-08-08T20:10:53.143076",
     "exception": false,
     "start_time": "2023-08-08T20:10:50.609379",
     "status": "completed"
    },
    "tags": []
   },
   "outputs": [
    {
     "name": "stderr",
     "output_type": "stream",
     "text": [
      "\r",
      "Loading checkpoint shards:   0%|                                                        | 0/2 [00:00<?, ?it/s]"
     ]
    },
    {
     "name": "stderr",
     "output_type": "stream",
     "text": [
      "\r",
      "Loading checkpoint shards:  50%|████████████████████████                        | 1/2 [00:01<00:01,  1.06s/it]"
     ]
    },
    {
     "name": "stderr",
     "output_type": "stream",
     "text": [
      "\r",
      "Loading checkpoint shards: 100%|████████████████████████████████████████████████| 2/2 [00:01<00:00,  1.48it/s]"
     ]
    },
    {
     "name": "stderr",
     "output_type": "stream",
     "text": [
      "\r",
      "Loading checkpoint shards: 100%|████████████████████████████████████████████████| 2/2 [00:01<00:00,  1.36it/s]"
     ]
    },
    {
     "name": "stderr",
     "output_type": "stream",
     "text": [
      "\n"
     ]
    }
   ],
   "source": [
    "#papermill_description=LOADING_MODEL\n",
    "model_name = \"meta-llama/Llama-2-7b-chat-hf\"\n",
    "\n",
    "model = LlamaModel(\n",
    "    model_name=model_name,\n",
    "    model_resolution=model_size\n",
    ")\n",
    "\n",
    "model.model.to = lambda x: x # Disable device copying"
   ]
  },
  {
   "cell_type": "markdown",
   "id": "ad98ddfe",
   "metadata": {
    "papermill": {
     "duration": 0.002472,
     "end_time": "2023-08-08T20:10:53.148056",
     "exception": false,
     "start_time": "2023-08-08T20:10:53.145584",
     "status": "completed"
    },
    "tags": []
   },
   "source": [
    "## 2 - Load dataset"
   ]
  },
  {
   "cell_type": "code",
   "execution_count": 5,
   "id": "4d75ad15",
   "metadata": {
    "execution": {
     "iopub.execute_input": "2023-08-08T20:10:53.152060Z",
     "iopub.status.busy": "2023-08-08T20:10:53.151935Z",
     "iopub.status.idle": "2023-08-08T20:10:54.536896Z",
     "shell.execute_reply": "2023-08-08T20:10:54.536458Z"
    },
    "papermill": {
     "duration": 1.38834,
     "end_time": "2023-08-08T20:10:54.538021",
     "exception": false,
     "start_time": "2023-08-08T20:10:53.149681",
     "status": "completed"
    },
    "tags": []
   },
   "outputs": [],
   "source": [
    "#papermill_description=LOADING_DATA\n",
    "dataset = datasets.load_dataset('squad_v2', split='validation')"
   ]
  },
  {
   "cell_type": "code",
   "execution_count": 6,
   "id": "4b93378f",
   "metadata": {
    "execution": {
     "iopub.execute_input": "2023-08-08T20:10:54.543491Z",
     "iopub.status.busy": "2023-08-08T20:10:54.543371Z",
     "iopub.status.idle": "2023-08-08T20:10:54.547360Z",
     "shell.execute_reply": "2023-08-08T20:10:54.547085Z"
    },
    "papermill": {
     "duration": 0.007321,
     "end_time": "2023-08-08T20:10:54.548054",
     "exception": false,
     "start_time": "2023-08-08T20:10:54.540733",
     "status": "completed"
    },
    "tags": []
   },
   "outputs": [
    {
     "data": {
      "text/plain": [
       "Dataset({\n",
       "    features: ['id', 'title', 'context', 'question', 'answers'],\n",
       "    num_rows: 11873\n",
       "})"
      ]
     },
     "execution_count": 6,
     "metadata": {},
     "output_type": "execute_result"
    }
   ],
   "source": [
    "dataset"
   ]
  },
  {
   "cell_type": "code",
   "execution_count": 7,
   "id": "0520b08f",
   "metadata": {
    "execution": {
     "iopub.execute_input": "2023-08-08T20:10:54.552202Z",
     "iopub.status.busy": "2023-08-08T20:10:54.552086Z",
     "iopub.status.idle": "2023-08-08T20:10:54.554840Z",
     "shell.execute_reply": "2023-08-08T20:10:54.554576Z"
    },
    "papermill": {
     "duration": 0.005554,
     "end_time": "2023-08-08T20:10:54.555508",
     "exception": false,
     "start_time": "2023-08-08T20:10:54.549954",
     "status": "completed"
    },
    "tags": []
   },
   "outputs": [
    {
     "data": {
      "text/plain": [
       "{'id': '5ad39d53604f3c001a3fe8d1',\n",
       " 'title': 'Normans',\n",
       " 'context': 'The Normans (Norman: Nourmands; French: Normands; Latin: Normanni) were the people who in the 10th and 11th centuries gave their name to Normandy, a region in France. They were descended from Norse (\"Norman\" comes from \"Norseman\") raiders and pirates from Denmark, Iceland and Norway who, under their leader Rollo, agreed to swear fealty to King Charles III of West Francia. Through generations of assimilation and mixing with the native Frankish and Roman-Gaulish populations, their descendants would gradually merge with the Carolingian-based cultures of West Francia. The distinct cultural and ethnic identity of the Normans emerged initially in the first half of the 10th century, and it continued to evolve over the succeeding centuries.',\n",
       " 'question': \"Who gave their name to Normandy in the 1000's and 1100's\",\n",
       " 'answers': {'text': [], 'answer_start': []}}"
      ]
     },
     "execution_count": 7,
     "metadata": {},
     "output_type": "execute_result"
    }
   ],
   "source": [
    "dataset[5]"
   ]
  },
  {
   "cell_type": "markdown",
   "id": "d3b4a08b",
   "metadata": {
    "papermill": {
     "duration": 0.001802,
     "end_time": "2023-08-08T20:10:54.559091",
     "exception": false,
     "start_time": "2023-08-08T20:10:54.557289",
     "status": "completed"
    },
    "tags": []
   },
   "source": [
    "## 3 - Define data prep and model inference functions"
   ]
  },
  {
   "cell_type": "code",
   "execution_count": 8,
   "id": "8028f873",
   "metadata": {
    "execution": {
     "iopub.execute_input": "2023-08-08T20:10:54.563208Z",
     "iopub.status.busy": "2023-08-08T20:10:54.562993Z",
     "iopub.status.idle": "2023-08-08T20:10:54.566971Z",
     "shell.execute_reply": "2023-08-08T20:10:54.566646Z"
    },
    "papermill": {
     "duration": 0.006809,
     "end_time": "2023-08-08T20:10:54.567659",
     "exception": false,
     "start_time": "2023-08-08T20:10:54.560850",
     "status": "completed"
    },
    "tags": []
   },
   "outputs": [],
   "source": [
    "def format_question(sample: dict) -> str:\n",
    "    \"\"\"Format a sample from the squad V2 dataset to question answer string.\"\"\"\n",
    "    pretext = (f'{model.B_INST} You are performing extractive reading comprehension; '\n",
    "               'given a question and a paragraph from an article, respond only with a '\n",
    "               'direct extract from the article that answers the question and do not use your own '\n",
    "               'prior knowledge.  If no direct extract from the context can answer the question, '\n",
    "               f'respond with an empty quote.'\n",
    "               f' {model.E_INST}\\n')  # Llama system directive\n",
    "    q_a = (f'Article: {sample[\"title\"]}\\n'\n",
    "         f'Paragraph: {sample[\"context\"]}\\n\\n'\n",
    "         f'Question: {sample[\"question\"]}\\n\\n'\n",
    "         f'Answer: ')\n",
    "    \n",
    "    return pretext + q_a\n",
    "\n",
    "\n",
    "def squad_inference(df: pd.DataFrame, model) -> pd.DataFrame:\n",
    "    \"\"\"Predict the output extracts for all samples in the input squad format dataset\"\"\"\n",
    "    df_val = df.copy(deep=True)\n",
    "    df_val['prediction_text'] = ''\n",
    "    df_val['no_answer_probability'] = 0.\n",
    "    df_val['pred_start'] = -1\n",
    "\n",
    "    for idx in range(len(df)):\n",
    "        x = format_question(df.iloc[idx])\n",
    "        y_pred = model.generate(x) # TODO: get prob of </s> token on output as no_answer_probability\n",
    "        \n",
    "        y_pred_clean = y_pred[len(x)+3:-4].strip().strip(string.punctuation) # Remove start / end tags + whitespace\n",
    "        df_val.loc[idx, 'prediction_text'] = y_pred_clean\n",
    "        if y_pred_clean != '':\n",
    "            df_val.loc[idx, 'pred_start'] = str(df_val.context.iloc[idx]).find(y_pred_clean)\n",
    "\n",
    "    return df_val"
   ]
  },
  {
   "cell_type": "code",
   "execution_count": 9,
   "id": "63c4f5aa",
   "metadata": {
    "execution": {
     "iopub.execute_input": "2023-08-08T20:10:54.571755Z",
     "iopub.status.busy": "2023-08-08T20:10:54.571591Z",
     "iopub.status.idle": "2023-08-08T20:10:55.770766Z",
     "shell.execute_reply": "2023-08-08T20:10:55.770432Z"
    },
    "papermill": {
     "duration": 1.202179,
     "end_time": "2023-08-08T20:10:55.771618",
     "exception": false,
     "start_time": "2023-08-08T20:10:54.569439",
     "status": "completed"
    },
    "tags": []
   },
   "outputs": [
    {
     "name": "stdout",
     "output_type": "stream",
     "text": [
      "[INST] You are performing extractive reading comprehension; given a question and a paragraph from an article, respond only with a direct extract from the article that answers the question and do not use your own prior knowledge.  If no direct extract from the context can answer the question, respond with an empty quote. [/INST]\n",
      "Article: Normans\n",
      "Paragraph: The Norman dynasty had a major political, cultural and military impact on medieval Europe and even the Near East. The Normans were famed for their martial spirit and eventually for their Christian piety, becoming exponents of the Catholic orthodoxy into which they assimilated. They adopted the Gallo-Romance language of the Frankish land they settled, their dialect becoming known as Norman, Normaund or Norman French, an important literary language. The Duchy of Normandy, which they formed by treaty with the French crown, was a great fief of medieval France, and under Richard I of Normandy was forged into a cohesive and formidable principality in feudal tenure. The Normans are noted both for their culture, such as their unique Romanesque architecture and musical traditions, and for their significant military accomplishments and innovations. Norman adventurers founded the Kingdom of Sicily under Roger II after conquering southern Italy on the Saracens and Byzantines, and an expedition on behalf of their duke, William the Conqueror, led to the Norman conquest of England at the Battle of Hastings in 1066. Norman cultural and military influence spread from these new European centres to the Crusader states of the Near East, where their prince Bohemond I founded the Principality of Antioch in the Levant, to Scotland and Wales in Great Britain, to Ireland, and to the coasts of north Africa and the Canary Islands.\n",
      "\n",
      "Question: Who was the duke in the battle of Hastings?\n",
      "\n",
      "Answer: \n"
     ]
    },
    {
     "name": "stdout",
     "output_type": "stream",
     "text": [
      "<s> [INST] You are performing extractive reading comprehension; given a question and a paragraph from an article, respond only with a direct extract from the article that answers the question and do not use your own prior knowledge.  If no direct extract from the context can answer the question, respond with an empty quote. [/INST]\n",
      "Article: Normans\n",
      "Paragraph: The Norman dynasty had a major political, cultural and military impact on medieval Europe and even the Near East. The Normans were famed for their martial spirit and eventually for their Christian piety, becoming exponents of the Catholic orthodoxy into which they assimilated. They adopted the Gallo-Romance language of the Frankish land they settled, their dialect becoming known as Norman, Normaund or Norman French, an important literary language. The Duchy of Normandy, which they formed by treaty with the French crown, was a great fief of medieval France, and under Richard I of Normandy was forged into a cohesive and formidable principality in feudal tenure. The Normans are noted both for their culture, such as their unique Romanesque architecture and musical traditions, and for their significant military accomplishments and innovations. Norman adventurers founded the Kingdom of Sicily under Roger II after conquering southern Italy on the Saracens and Byzantines, and an expedition on behalf of their duke, William the Conqueror, led to the Norman conquest of England at the Battle of Hastings in 1066. Norman cultural and military influence spread from these new European centres to the Crusader states of the Near East, where their prince Bohemond I founded the Principality of Antioch in the Levant, to Scotland and Wales in Great Britain, to Ireland, and to the coasts of north Africa and the Canary Islands.\n",
      "\n",
      "Question: Who was the duke in the battle of Hastings?\n",
      "\n",
      "Answer:  \"William the Conqueror\"</s>\n"
     ]
    }
   ],
   "source": [
    "df = dataset.to_pandas()\n",
    "df['prediction'] = ''\n",
    "df['pred_start'] = -1\n",
    "\n",
    "idx = 9\n",
    "x = format_question(dataset[idx])\n",
    "print(x)\n",
    "\n",
    "y_pred = model.generate(x)\n",
    "print(y_pred)\n",
    "y_pred_clean = y_pred[len(x)+3:-4].strip().strip(string.punctuation) # Remove start / end tags + whitespace\n",
    "df.loc[idx, 'prediction'] = y_pred_clean\n",
    "if y_pred_clean != '':\n",
    "    df.loc[idx, 'pred_start'] = str(df.context.iloc[idx]).find(y_pred_clean)"
   ]
  },
  {
   "cell_type": "code",
   "execution_count": 10,
   "id": "a15d7151",
   "metadata": {
    "execution": {
     "iopub.execute_input": "2023-08-08T20:10:55.778459Z",
     "iopub.status.busy": "2023-08-08T20:10:55.778343Z",
     "iopub.status.idle": "2023-08-08T20:10:55.782244Z",
     "shell.execute_reply": "2023-08-08T20:10:55.782017Z"
    },
    "papermill": {
     "duration": 0.0082,
     "end_time": "2023-08-08T20:10:55.782944",
     "exception": false,
     "start_time": "2023-08-08T20:10:55.774744",
     "status": "completed"
    },
    "tags": []
   },
   "outputs": [
    {
     "data": {
      "text/plain": [
       "id                                     56dddf4066d3e219004dad5f\n",
       "title                                                   Normans\n",
       "context       The Norman dynasty had a major political, cult...\n",
       "question            Who was the duke in the battle of Hastings?\n",
       "answers       {'text': ['William the Conqueror', 'William th...\n",
       "prediction                                William the Conqueror\n",
       "pred_start                                                 1022\n",
       "Name: 9, dtype: object"
      ]
     },
     "execution_count": 10,
     "metadata": {},
     "output_type": "execute_result"
    }
   ],
   "source": [
    "df.loc[idx]"
   ]
  },
  {
   "cell_type": "code",
   "execution_count": 11,
   "id": "5b7f4c50",
   "metadata": {
    "execution": {
     "iopub.execute_input": "2023-08-08T20:10:55.787412Z",
     "iopub.status.busy": "2023-08-08T20:10:55.787304Z",
     "iopub.status.idle": "2023-08-09T02:42:46.108834Z",
     "shell.execute_reply": "2023-08-09T02:42:46.108505Z"
    },
    "papermill": {
     "duration": 23510.32486,
     "end_time": "2023-08-09T02:42:46.109777",
     "exception": false,
     "start_time": "2023-08-08T20:10:55.784917",
     "status": "completed"
    },
    "tags": []
   },
   "outputs": [],
   "source": [
    "#papermill_description=RUNNING_INFERENCE\n",
    "pd_dataset = dataset.to_pandas()\n",
    "if max_samples > 0 and max_samples < len(pd_dataset):\n",
    "    pd_dataset = pd_dataset.iloc[:max_samples - 1]\n",
    "df2 = squad_inference(pd_dataset, model)"
   ]
  },
  {
   "cell_type": "code",
   "execution_count": 12,
   "id": "8005582e",
   "metadata": {
    "execution": {
     "iopub.execute_input": "2023-08-09T02:42:46.116763Z",
     "iopub.status.busy": "2023-08-09T02:42:46.116643Z",
     "iopub.status.idle": "2023-08-09T02:42:46.122127Z",
     "shell.execute_reply": "2023-08-09T02:42:46.121883Z"
    },
    "papermill": {
     "duration": 0.009833,
     "end_time": "2023-08-09T02:42:46.122923",
     "exception": false,
     "start_time": "2023-08-09T02:42:46.113090",
     "status": "completed"
    },
    "tags": []
   },
   "outputs": [
    {
     "data": {
      "text/html": [
       "<div>\n",
       "<style scoped>\n",
       "    .dataframe tbody tr th:only-of-type {\n",
       "        vertical-align: middle;\n",
       "    }\n",
       "\n",
       "    .dataframe tbody tr th {\n",
       "        vertical-align: top;\n",
       "    }\n",
       "\n",
       "    .dataframe thead th {\n",
       "        text-align: right;\n",
       "    }\n",
       "</style>\n",
       "<table border=\"1\" class=\"dataframe\">\n",
       "  <thead>\n",
       "    <tr style=\"text-align: right;\">\n",
       "      <th></th>\n",
       "      <th>id</th>\n",
       "      <th>title</th>\n",
       "      <th>context</th>\n",
       "      <th>question</th>\n",
       "      <th>answers</th>\n",
       "      <th>prediction_text</th>\n",
       "      <th>no_answer_probability</th>\n",
       "      <th>pred_start</th>\n",
       "    </tr>\n",
       "  </thead>\n",
       "  <tbody>\n",
       "    <tr>\n",
       "      <th>0</th>\n",
       "      <td>56ddde6b9a695914005b9628</td>\n",
       "      <td>Normans</td>\n",
       "      <td>The Normans (Norman: Nourmands; French: Norman...</td>\n",
       "      <td>In what country is Normandy located?</td>\n",
       "      <td>{'text': ['France', 'France', 'France', 'Franc...</td>\n",
       "      <td>France</td>\n",
       "      <td>0.0</td>\n",
       "      <td>159</td>\n",
       "    </tr>\n",
       "  </tbody>\n",
       "</table>\n",
       "</div>"
      ],
      "text/plain": [
       "                         id    title  \\\n",
       "0  56ddde6b9a695914005b9628  Normans   \n",
       "\n",
       "                                             context  \\\n",
       "0  The Normans (Norman: Nourmands; French: Norman...   \n",
       "\n",
       "                               question  \\\n",
       "0  In what country is Normandy located?   \n",
       "\n",
       "                                             answers prediction_text  \\\n",
       "0  {'text': ['France', 'France', 'France', 'Franc...          France   \n",
       "\n",
       "   no_answer_probability  pred_start  \n",
       "0                    0.0         159  "
      ]
     },
     "execution_count": 12,
     "metadata": {},
     "output_type": "execute_result"
    }
   ],
   "source": [
    "df2.head(1)"
   ]
  },
  {
   "cell_type": "markdown",
   "id": "b9dc2b6e",
   "metadata": {
    "papermill": {
     "duration": 0.003124,
     "end_time": "2023-08-09T02:42:46.128909",
     "exception": false,
     "start_time": "2023-08-09T02:42:46.125785",
     "status": "completed"
    },
    "tags": []
   },
   "source": [
    "## 5 - Evaluate performance"
   ]
  },
  {
   "cell_type": "code",
   "execution_count": 13,
   "id": "6c7e86e0",
   "metadata": {
    "execution": {
     "iopub.execute_input": "2023-08-09T02:42:46.136057Z",
     "iopub.status.busy": "2023-08-09T02:42:46.135871Z",
     "iopub.status.idle": "2023-08-09T02:42:47.947790Z",
     "shell.execute_reply": "2023-08-09T02:42:47.947477Z"
    },
    "papermill": {
     "duration": 1.816387,
     "end_time": "2023-08-09T02:42:47.948650",
     "exception": false,
     "start_time": "2023-08-09T02:42:46.132263",
     "status": "completed"
    },
    "tags": []
   },
   "outputs": [
    {
     "data": {
      "text/plain": [
       "{'exact': 12.229428114208709,\n",
       " 'f1': 24.610125674823944,\n",
       " 'total': 11873,\n",
       " 'HasAns_exact': 24.460188933873145,\n",
       " 'HasAns_f1': 49.25708875458581,\n",
       " 'HasAns_total': 5928,\n",
       " 'NoAns_exact': 0.0336417157275021,\n",
       " 'NoAns_f1': 0.0336417157275021,\n",
       " 'NoAns_total': 5945,\n",
       " 'best_exact': 50.09685841825992,\n",
       " 'best_exact_thresh': 0.0,\n",
       " 'best_f1': 50.10419092255784,\n",
       " 'best_f1_thresh': 0.0}"
      ]
     },
     "execution_count": 13,
     "metadata": {},
     "output_type": "execute_result"
    }
   ],
   "source": [
    "#papermill_description=EVALUATION\n",
    "squad_v2_metric = load(\"squad_v2\")\n",
    "\n",
    "predictions = df2[['prediction_text', 'no_answer_probability', 'id']].to_dict('records')\n",
    "answers = df2[['answers', 'id']].to_dict('records')\n",
    "\n",
    "results = squad_v2_metric.compute(predictions=predictions, references=answers)\n",
    "results"
   ]
  },
  {
   "cell_type": "raw",
   "id": "03ec73b6",
   "metadata": {
    "papermill": {
     "duration": 0.003214,
     "end_time": "2023-08-09T02:42:47.955338",
     "exception": false,
     "start_time": "2023-08-09T02:42:47.952124",
     "status": "completed"
    },
    "tags": []
   },
   "source": [
    "# Trying the all-in-one evaluator pipeline - not working currently with llama\n",
    "task_evaluator = evaluator(\"question-answering\")\n",
    "results = task_evaluator.compute(\n",
    "     model_or_pipeline=model.model,\n",
    "     tokenizer=model.tokenizer,\n",
    "     data=dataset,\n",
    "     metric=\"squad_v2\",\n",
    "     squad_v2_format=True,\n",
    ")"
   ]
  }
 ],
 "metadata": {
  "kernelspec": {
   "display_name": ".env",
   "language": "python",
   "name": "python3"
  },
  "language_info": {
   "codemirror_mode": {
    "name": "ipython",
    "version": 3
   },
   "file_extension": ".py",
   "mimetype": "text/x-python",
   "name": "python",
   "nbconvert_exporter": "python",
   "pygments_lexer": "ipython3",
   "version": "3.11.3"
  },
  "papermill": {
   "default_parameters": {},
   "duration": 23520.024856,
   "end_time": "2023-08-09T02:42:48.483230",
   "environment_variables": {},
   "exception": null,
   "input_path": "05_squad.ipynb",
   "output_path": "outputs/05_squad_int8.ipynb",
   "parameters": {
    "max_samples": -1,
    "model_size": "int8"
   },
   "start_time": "2023-08-08T20:10:48.458374",
   "version": "2.4.0"
  }
 },
 "nbformat": 4,
 "nbformat_minor": 5
}