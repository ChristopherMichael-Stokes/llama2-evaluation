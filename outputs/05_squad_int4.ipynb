{
 "cells": [
  {
   "cell_type": "code",
   "execution_count": 1,
   "id": "37bfb41d",
   "metadata": {
    "execution": {
     "iopub.execute_input": "2023-08-08T17:31:02.255843Z",
     "iopub.status.busy": "2023-08-08T17:31:02.255693Z",
     "iopub.status.idle": "2023-08-08T17:31:03.786932Z",
     "shell.execute_reply": "2023-08-08T17:31:03.786596Z"
    },
    "papermill": {
     "duration": 1.534609,
     "end_time": "2023-08-08T17:31:03.787964",
     "exception": false,
     "start_time": "2023-08-08T17:31:02.253355",
     "status": "completed"
    },
    "tags": []
   },
   "outputs": [
    {
     "name": "stderr",
     "output_type": "stream",
     "text": [
      "/home/chris/Desktop/repos/llama2/.env/lib/python3.11/site-packages/tqdm/auto.py:21: TqdmWarning: IProgress not found. Please update jupyter and ipywidgets. See https://ipywidgets.readthedocs.io/en/stable/user_install.html\n",
      "  from .autonotebook import tqdm as notebook_tqdm\n"
     ]
    }
   ],
   "source": [
    "from llama2 import *\n",
    "from typing import List, Literal, Optional, Tuple, TypedDict\n",
    "import pandas as pd\n",
    "import datasets\n",
    "import string\n",
    "from evaluate import evaluator\n",
    "from evaluate import load\n",
    "\n",
    "from torch.utils.data import Dataset"
   ]
  },
  {
   "cell_type": "code",
   "execution_count": 2,
   "id": "0a93b27c",
   "metadata": {
    "execution": {
     "iopub.execute_input": "2023-08-08T17:31:03.793043Z",
     "iopub.status.busy": "2023-08-08T17:31:03.792844Z",
     "iopub.status.idle": "2023-08-08T17:31:03.794830Z",
     "shell.execute_reply": "2023-08-08T17:31:03.794589Z"
    },
    "papermill": {
     "duration": 0.005428,
     "end_time": "2023-08-08T17:31:03.795641",
     "exception": false,
     "start_time": "2023-08-08T17:31:03.790213",
     "status": "completed"
    },
    "tags": [
     "parameters"
    ]
   },
   "outputs": [],
   "source": [
    "model_size='int8'\n",
    "max_samples=10"
   ]
  },
  {
   "cell_type": "code",
   "execution_count": 3,
   "id": "d2640b7e",
   "metadata": {
    "execution": {
     "iopub.execute_input": "2023-08-08T17:31:03.800359Z",
     "iopub.status.busy": "2023-08-08T17:31:03.800152Z",
     "iopub.status.idle": "2023-08-08T17:31:03.801861Z",
     "shell.execute_reply": "2023-08-08T17:31:03.801621Z"
    },
    "papermill": {
     "duration": 0.005161,
     "end_time": "2023-08-08T17:31:03.802666",
     "exception": false,
     "start_time": "2023-08-08T17:31:03.797505",
     "status": "completed"
    },
    "tags": [
     "injected-parameters"
    ]
   },
   "outputs": [],
   "source": [
    "# Parameters\n",
    "model_size = \"int4\"\n",
    "max_samples = -1\n"
   ]
  },
  {
   "cell_type": "markdown",
   "id": "d4e777b8",
   "metadata": {
    "papermill": {
     "duration": 0.002097,
     "end_time": "2023-08-08T17:31:03.806672",
     "exception": false,
     "start_time": "2023-08-08T17:31:03.804575",
     "status": "completed"
    },
    "tags": []
   },
   "source": [
    "## 1 - Load model"
   ]
  },
  {
   "cell_type": "code",
   "execution_count": 4,
   "id": "74f33e40",
   "metadata": {
    "execution": {
     "iopub.execute_input": "2023-08-08T17:31:03.811601Z",
     "iopub.status.busy": "2023-08-08T17:31:03.811396Z",
     "iopub.status.idle": "2023-08-08T17:31:06.251995Z",
     "shell.execute_reply": "2023-08-08T17:31:06.251691Z"
    },
    "papermill": {
     "duration": 2.444057,
     "end_time": "2023-08-08T17:31:06.252856",
     "exception": false,
     "start_time": "2023-08-08T17:31:03.808799",
     "status": "completed"
    },
    "tags": []
   },
   "outputs": [
    {
     "name": "stderr",
     "output_type": "stream",
     "text": [
      "\r",
      "Loading checkpoint shards:   0%|                                                        | 0/2 [00:00<?, ?it/s]"
     ]
    },
    {
     "name": "stderr",
     "output_type": "stream",
     "text": [
      "\r",
      "Loading checkpoint shards:  50%|████████████████████████                        | 1/2 [00:01<00:01,  1.08s/it]"
     ]
    },
    {
     "name": "stderr",
     "output_type": "stream",
     "text": [
      "\r",
      "Loading checkpoint shards: 100%|████████████████████████████████████████████████| 2/2 [00:01<00:00,  1.46it/s]"
     ]
    },
    {
     "name": "stderr",
     "output_type": "stream",
     "text": [
      "\r",
      "Loading checkpoint shards: 100%|████████████████████████████████████████████████| 2/2 [00:01<00:00,  1.35it/s]"
     ]
    },
    {
     "name": "stderr",
     "output_type": "stream",
     "text": [
      "\n"
     ]
    }
   ],
   "source": [
    "#papermill_description=LOADING_MODEL\n",
    "model_name = \"meta-llama/Llama-2-7b-chat-hf\"\n",
    "\n",
    "model = LlamaModel(\n",
    "    model_name=model_name,\n",
    "    model_resolution=model_size\n",
    ")\n",
    "\n",
    "model.model.to = lambda x: x # Disable device copying"
   ]
  },
  {
   "cell_type": "markdown",
   "id": "bd6f21f4",
   "metadata": {
    "papermill": {
     "duration": 0.002362,
     "end_time": "2023-08-08T17:31:06.257735",
     "exception": false,
     "start_time": "2023-08-08T17:31:06.255373",
     "status": "completed"
    },
    "tags": []
   },
   "source": [
    "## 2 - Load dataset"
   ]
  },
  {
   "cell_type": "code",
   "execution_count": 5,
   "id": "79663c81",
   "metadata": {
    "execution": {
     "iopub.execute_input": "2023-08-08T17:31:06.263430Z",
     "iopub.status.busy": "2023-08-08T17:31:06.263295Z",
     "iopub.status.idle": "2023-08-08T17:31:07.452979Z",
     "shell.execute_reply": "2023-08-08T17:31:07.452600Z"
    },
    "papermill": {
     "duration": 1.193973,
     "end_time": "2023-08-08T17:31:07.454226",
     "exception": false,
     "start_time": "2023-08-08T17:31:06.260253",
     "status": "completed"
    },
    "tags": []
   },
   "outputs": [],
   "source": [
    "#papermill_description=LOADING_DATA\n",
    "dataset = datasets.load_dataset('squad_v2', split='validation')"
   ]
  },
  {
   "cell_type": "code",
   "execution_count": 6,
   "id": "5ad7cffd",
   "metadata": {
    "execution": {
     "iopub.execute_input": "2023-08-08T17:31:07.461435Z",
     "iopub.status.busy": "2023-08-08T17:31:07.461234Z",
     "iopub.status.idle": "2023-08-08T17:31:07.466777Z",
     "shell.execute_reply": "2023-08-08T17:31:07.466465Z"
    },
    "papermill": {
     "duration": 0.010524,
     "end_time": "2023-08-08T17:31:07.467804",
     "exception": false,
     "start_time": "2023-08-08T17:31:07.457280",
     "status": "completed"
    },
    "tags": []
   },
   "outputs": [
    {
     "data": {
      "text/plain": [
       "Dataset({\n",
       "    features: ['id', 'title', 'context', 'question', 'answers'],\n",
       "    num_rows: 11873\n",
       "})"
      ]
     },
     "execution_count": 6,
     "metadata": {},
     "output_type": "execute_result"
    }
   ],
   "source": [
    "dataset"
   ]
  },
  {
   "cell_type": "code",
   "execution_count": 7,
   "id": "993c5cc6",
   "metadata": {
    "execution": {
     "iopub.execute_input": "2023-08-08T17:31:07.475046Z",
     "iopub.status.busy": "2023-08-08T17:31:07.474671Z",
     "iopub.status.idle": "2023-08-08T17:31:07.477984Z",
     "shell.execute_reply": "2023-08-08T17:31:07.477671Z"
    },
    "papermill": {
     "duration": 0.008406,
     "end_time": "2023-08-08T17:31:07.478943",
     "exception": false,
     "start_time": "2023-08-08T17:31:07.470537",
     "status": "completed"
    },
    "tags": []
   },
   "outputs": [
    {
     "data": {
      "text/plain": [
       "{'id': '5ad39d53604f3c001a3fe8d1',\n",
       " 'title': 'Normans',\n",
       " 'context': 'The Normans (Norman: Nourmands; French: Normands; Latin: Normanni) were the people who in the 10th and 11th centuries gave their name to Normandy, a region in France. They were descended from Norse (\"Norman\" comes from \"Norseman\") raiders and pirates from Denmark, Iceland and Norway who, under their leader Rollo, agreed to swear fealty to King Charles III of West Francia. Through generations of assimilation and mixing with the native Frankish and Roman-Gaulish populations, their descendants would gradually merge with the Carolingian-based cultures of West Francia. The distinct cultural and ethnic identity of the Normans emerged initially in the first half of the 10th century, and it continued to evolve over the succeeding centuries.',\n",
       " 'question': \"Who gave their name to Normandy in the 1000's and 1100's\",\n",
       " 'answers': {'text': [], 'answer_start': []}}"
      ]
     },
     "execution_count": 7,
     "metadata": {},
     "output_type": "execute_result"
    }
   ],
   "source": [
    "dataset[5]"
   ]
  },
  {
   "cell_type": "markdown",
   "id": "c8f2b6ae",
   "metadata": {
    "papermill": {
     "duration": 0.003414,
     "end_time": "2023-08-08T17:31:07.485740",
     "exception": false,
     "start_time": "2023-08-08T17:31:07.482326",
     "status": "completed"
    },
    "tags": []
   },
   "source": [
    "## 3 - Define data prep and model inference functions"
   ]
  },
  {
   "cell_type": "code",
   "execution_count": 8,
   "id": "1453f219",
   "metadata": {
    "execution": {
     "iopub.execute_input": "2023-08-08T17:31:07.492015Z",
     "iopub.status.busy": "2023-08-08T17:31:07.491738Z",
     "iopub.status.idle": "2023-08-08T17:31:07.496996Z",
     "shell.execute_reply": "2023-08-08T17:31:07.496668Z"
    },
    "papermill": {
     "duration": 0.009537,
     "end_time": "2023-08-08T17:31:07.497931",
     "exception": false,
     "start_time": "2023-08-08T17:31:07.488394",
     "status": "completed"
    },
    "tags": []
   },
   "outputs": [],
   "source": [
    "def format_question(sample: dict) -> str:\n",
    "    \"\"\"Format a sample from the squad V2 dataset to question answer string.\"\"\"\n",
    "    pretext = (f'{model.B_INST} You are performing extractive reading comprehension; '\n",
    "               'given a question and a paragraph from an article, respond only with a '\n",
    "               'direct extract from the article that answers the question and do not use your own '\n",
    "               'prior knowledge.  If no direct extract from the context can answer the question, '\n",
    "               f'respond with an empty quote.'\n",
    "               f' {model.E_INST}\\n')  # Llama system directive\n",
    "    q_a = (f'Article: {sample[\"title\"]}\\n'\n",
    "         f'Paragraph: {sample[\"context\"]}\\n\\n'\n",
    "         f'Question: {sample[\"question\"]}\\n\\n'\n",
    "         f'Answer: ')\n",
    "    \n",
    "    return pretext + q_a\n",
    "\n",
    "\n",
    "def squad_inference(df: pd.DataFrame, model) -> pd.DataFrame:\n",
    "    \"\"\"Predict the output extracts for all samples in the input squad format dataset\"\"\"\n",
    "    df_val = df.copy(deep=True)\n",
    "    df_val['prediction_text'] = ''\n",
    "    df_val['no_answer_probability'] = 0.\n",
    "    df_val['pred_start'] = -1\n",
    "\n",
    "    for idx in range(len(df)):\n",
    "        x = format_question(df.iloc[idx])\n",
    "        y_pred = model.generate(x) # TODO: get prob of </s> token on output as no_answer_probability\n",
    "        \n",
    "        y_pred_clean = y_pred[len(x)+3:-4].strip().strip(string.punctuation) # Remove start / end tags + whitespace\n",
    "        df_val.loc[idx, 'prediction_text'] = y_pred_clean\n",
    "        if y_pred_clean != '':\n",
    "            df_val.loc[idx, 'pred_start'] = str(df_val.context.iloc[idx]).find(y_pred_clean)\n",
    "\n",
    "    return df_val"
   ]
  },
  {
   "cell_type": "code",
   "execution_count": 9,
   "id": "2e5495f9",
   "metadata": {
    "execution": {
     "iopub.execute_input": "2023-08-08T17:31:07.503985Z",
     "iopub.status.busy": "2023-08-08T17:31:07.503774Z",
     "iopub.status.idle": "2023-08-08T17:31:08.307010Z",
     "shell.execute_reply": "2023-08-08T17:31:08.306672Z"
    },
    "papermill": {
     "duration": 0.807248,
     "end_time": "2023-08-08T17:31:08.307869",
     "exception": false,
     "start_time": "2023-08-08T17:31:07.500621",
     "status": "completed"
    },
    "tags": []
   },
   "outputs": [
    {
     "name": "stdout",
     "output_type": "stream",
     "text": [
      "[INST] You are performing extractive reading comprehension; given a question and a paragraph from an article, respond only with a direct extract from the article that answers the question and do not use your own prior knowledge.  If no direct extract from the context can answer the question, respond with an empty quote. [/INST]\n",
      "Article: Normans\n",
      "Paragraph: The Norman dynasty had a major political, cultural and military impact on medieval Europe and even the Near East. The Normans were famed for their martial spirit and eventually for their Christian piety, becoming exponents of the Catholic orthodoxy into which they assimilated. They adopted the Gallo-Romance language of the Frankish land they settled, their dialect becoming known as Norman, Normaund or Norman French, an important literary language. The Duchy of Normandy, which they formed by treaty with the French crown, was a great fief of medieval France, and under Richard I of Normandy was forged into a cohesive and formidable principality in feudal tenure. The Normans are noted both for their culture, such as their unique Romanesque architecture and musical traditions, and for their significant military accomplishments and innovations. Norman adventurers founded the Kingdom of Sicily under Roger II after conquering southern Italy on the Saracens and Byzantines, and an expedition on behalf of their duke, William the Conqueror, led to the Norman conquest of England at the Battle of Hastings in 1066. Norman cultural and military influence spread from these new European centres to the Crusader states of the Near East, where their prince Bohemond I founded the Principality of Antioch in the Levant, to Scotland and Wales in Great Britain, to Ireland, and to the coasts of north Africa and the Canary Islands.\n",
      "\n",
      "Question: Who was the duke in the battle of Hastings?\n",
      "\n",
      "Answer: \n"
     ]
    },
    {
     "name": "stdout",
     "output_type": "stream",
     "text": [
      "<s> [INST] You are performing extractive reading comprehension; given a question and a paragraph from an article, respond only with a direct extract from the article that answers the question and do not use your own prior knowledge.  If no direct extract from the context can answer the question, respond with an empty quote. [/INST]\n",
      "Article: Normans\n",
      "Paragraph: The Norman dynasty had a major political, cultural and military impact on medieval Europe and even the Near East. The Normans were famed for their martial spirit and eventually for their Christian piety, becoming exponents of the Catholic orthodoxy into which they assimilated. They adopted the Gallo-Romance language of the Frankish land they settled, their dialect becoming known as Norman, Normaund or Norman French, an important literary language. The Duchy of Normandy, which they formed by treaty with the French crown, was a great fief of medieval France, and under Richard I of Normandy was forged into a cohesive and formidable principality in feudal tenure. The Normans are noted both for their culture, such as their unique Romanesque architecture and musical traditions, and for their significant military accomplishments and innovations. Norman adventurers founded the Kingdom of Sicily under Roger II after conquering southern Italy on the Saracens and Byzantines, and an expedition on behalf of their duke, William the Conqueror, led to the Norman conquest of England at the Battle of Hastings in 1066. Norman cultural and military influence spread from these new European centres to the Crusader states of the Near East, where their prince Bohemond I founded the Principality of Antioch in the Levant, to Scotland and Wales in Great Britain, to Ireland, and to the coasts of north Africa and the Canary Islands.\n",
      "\n",
      "Question: Who was the duke in the battle of Hastings?\n",
      "\n",
      "Answer:  \"William the Conqueror\"</s>\n"
     ]
    }
   ],
   "source": [
    "df = dataset.to_pandas()\n",
    "df['prediction'] = ''\n",
    "df['pred_start'] = -1\n",
    "\n",
    "idx = 9\n",
    "x = format_question(dataset[idx])\n",
    "print(x)\n",
    "\n",
    "y_pred = model.generate(x)\n",
    "print(y_pred)\n",
    "y_pred_clean = y_pred[len(x)+3:-4].strip().strip(string.punctuation) # Remove start / end tags + whitespace\n",
    "df.loc[idx, 'prediction'] = y_pred_clean\n",
    "if y_pred_clean != '':\n",
    "    df.loc[idx, 'pred_start'] = str(df.context.iloc[idx]).find(y_pred_clean)"
   ]
  },
  {
   "cell_type": "code",
   "execution_count": 10,
   "id": "120aa630",
   "metadata": {
    "execution": {
     "iopub.execute_input": "2023-08-08T17:31:08.314499Z",
     "iopub.status.busy": "2023-08-08T17:31:08.314368Z",
     "iopub.status.idle": "2023-08-08T17:31:08.318344Z",
     "shell.execute_reply": "2023-08-08T17:31:08.318113Z"
    },
    "papermill": {
     "duration": 0.008201,
     "end_time": "2023-08-08T17:31:08.319153",
     "exception": false,
     "start_time": "2023-08-08T17:31:08.310952",
     "status": "completed"
    },
    "tags": []
   },
   "outputs": [
    {
     "data": {
      "text/plain": [
       "id                                     56dddf4066d3e219004dad5f\n",
       "title                                                   Normans\n",
       "context       The Norman dynasty had a major political, cult...\n",
       "question            Who was the duke in the battle of Hastings?\n",
       "answers       {'text': ['William the Conqueror', 'William th...\n",
       "prediction                                William the Conqueror\n",
       "pred_start                                                 1022\n",
       "Name: 9, dtype: object"
      ]
     },
     "execution_count": 10,
     "metadata": {},
     "output_type": "execute_result"
    }
   ],
   "source": [
    "df.loc[idx]"
   ]
  },
  {
   "cell_type": "code",
   "execution_count": 11,
   "id": "0e5422e1",
   "metadata": {
    "execution": {
     "iopub.execute_input": "2023-08-08T17:31:08.325584Z",
     "iopub.status.busy": "2023-08-08T17:31:08.325391Z",
     "iopub.status.idle": "2023-08-08T20:10:46.232438Z",
     "shell.execute_reply": "2023-08-08T20:10:46.232109Z"
    },
    "papermill": {
     "duration": 9577.911408,
     "end_time": "2023-08-08T20:10:46.233358",
     "exception": false,
     "start_time": "2023-08-08T17:31:08.321950",
     "status": "completed"
    },
    "tags": []
   },
   "outputs": [],
   "source": [
    "#papermill_description=RUNNING_INFERENCE\n",
    "pd_dataset = dataset.to_pandas()\n",
    "if max_samples > 0 and max_samples < len(pd_dataset):\n",
    "    pd_dataset = pd_dataset.iloc[:max_samples - 1]\n",
    "df2 = squad_inference(pd_dataset, model)"
   ]
  },
  {
   "cell_type": "code",
   "execution_count": 12,
   "id": "42282a17",
   "metadata": {
    "execution": {
     "iopub.execute_input": "2023-08-08T20:10:46.240298Z",
     "iopub.status.busy": "2023-08-08T20:10:46.240180Z",
     "iopub.status.idle": "2023-08-08T20:10:46.245671Z",
     "shell.execute_reply": "2023-08-08T20:10:46.245444Z"
    },
    "papermill": {
     "duration": 0.009834,
     "end_time": "2023-08-08T20:10:46.246450",
     "exception": false,
     "start_time": "2023-08-08T20:10:46.236616",
     "status": "completed"
    },
    "tags": []
   },
   "outputs": [
    {
     "data": {
      "text/html": [
       "<div>\n",
       "<style scoped>\n",
       "    .dataframe tbody tr th:only-of-type {\n",
       "        vertical-align: middle;\n",
       "    }\n",
       "\n",
       "    .dataframe tbody tr th {\n",
       "        vertical-align: top;\n",
       "    }\n",
       "\n",
       "    .dataframe thead th {\n",
       "        text-align: right;\n",
       "    }\n",
       "</style>\n",
       "<table border=\"1\" class=\"dataframe\">\n",
       "  <thead>\n",
       "    <tr style=\"text-align: right;\">\n",
       "      <th></th>\n",
       "      <th>id</th>\n",
       "      <th>title</th>\n",
       "      <th>context</th>\n",
       "      <th>question</th>\n",
       "      <th>answers</th>\n",
       "      <th>prediction_text</th>\n",
       "      <th>no_answer_probability</th>\n",
       "      <th>pred_start</th>\n",
       "    </tr>\n",
       "  </thead>\n",
       "  <tbody>\n",
       "    <tr>\n",
       "      <th>0</th>\n",
       "      <td>56ddde6b9a695914005b9628</td>\n",
       "      <td>Normans</td>\n",
       "      <td>The Normans (Norman: Nourmands; French: Norman...</td>\n",
       "      <td>In what country is Normandy located?</td>\n",
       "      <td>{'text': ['France', 'France', 'France', 'Franc...</td>\n",
       "      <td>France</td>\n",
       "      <td>0.0</td>\n",
       "      <td>159</td>\n",
       "    </tr>\n",
       "  </tbody>\n",
       "</table>\n",
       "</div>"
      ],
      "text/plain": [
       "                         id    title  \\\n",
       "0  56ddde6b9a695914005b9628  Normans   \n",
       "\n",
       "                                             context  \\\n",
       "0  The Normans (Norman: Nourmands; French: Norman...   \n",
       "\n",
       "                               question  \\\n",
       "0  In what country is Normandy located?   \n",
       "\n",
       "                                             answers prediction_text  \\\n",
       "0  {'text': ['France', 'France', 'France', 'Franc...          France   \n",
       "\n",
       "   no_answer_probability  pred_start  \n",
       "0                    0.0         159  "
      ]
     },
     "execution_count": 12,
     "metadata": {},
     "output_type": "execute_result"
    }
   ],
   "source": [
    "df2.head(1)"
   ]
  },
  {
   "cell_type": "markdown",
   "id": "b48e6b42",
   "metadata": {
    "papermill": {
     "duration": 0.003135,
     "end_time": "2023-08-08T20:10:46.252899",
     "exception": false,
     "start_time": "2023-08-08T20:10:46.249764",
     "status": "completed"
    },
    "tags": []
   },
   "source": [
    "## 5 - Evaluate performance"
   ]
  },
  {
   "cell_type": "code",
   "execution_count": 13,
   "id": "4cc420c7",
   "metadata": {
    "execution": {
     "iopub.execute_input": "2023-08-08T20:10:46.259855Z",
     "iopub.status.busy": "2023-08-08T20:10:46.259747Z",
     "iopub.status.idle": "2023-08-08T20:10:47.916814Z",
     "shell.execute_reply": "2023-08-08T20:10:47.916501Z"
    },
    "papermill": {
     "duration": 1.661613,
     "end_time": "2023-08-08T20:10:47.917691",
     "exception": false,
     "start_time": "2023-08-08T20:10:46.256078",
     "status": "completed"
    },
    "tags": []
   },
   "outputs": [
    {
     "data": {
      "text/plain": [
       "{'exact': 11.142929335467025,\n",
       " 'f1': 22.407302595706955,\n",
       " 'total': 11873,\n",
       " 'HasAns_exact': 22.317813765182187,\n",
       " 'HasAns_f1': 44.878863650274745,\n",
       " 'HasAns_total': 5928,\n",
       " 'NoAns_exact': 0.0,\n",
       " 'NoAns_f1': 0.0,\n",
       " 'NoAns_total': 5945,\n",
       " 'best_exact': 50.10528088941295,\n",
       " 'best_exact_thresh': 0.0,\n",
       " 'best_f1': 50.11276753043787,\n",
       " 'best_f1_thresh': 0.0}"
      ]
     },
     "execution_count": 13,
     "metadata": {},
     "output_type": "execute_result"
    }
   ],
   "source": [
    "#papermill_description=EVALUATION\n",
    "squad_v2_metric = load(\"squad_v2\")\n",
    "\n",
    "predictions = df2[['prediction_text', 'no_answer_probability', 'id']].to_dict('records')\n",
    "answers = df2[['answers', 'id']].to_dict('records')\n",
    "\n",
    "results = squad_v2_metric.compute(predictions=predictions, references=answers)\n",
    "results"
   ]
  },
  {
   "cell_type": "raw",
   "id": "5b8d524e",
   "metadata": {
    "papermill": {
     "duration": 0.003212,
     "end_time": "2023-08-08T20:10:47.924237",
     "exception": false,
     "start_time": "2023-08-08T20:10:47.921025",
     "status": "completed"
    },
    "tags": []
   },
   "source": [
    "# Trying the all-in-one evaluator pipeline - not working currently with llama\n",
    "task_evaluator = evaluator(\"question-answering\")\n",
    "results = task_evaluator.compute(\n",
    "     model_or_pipeline=model.model,\n",
    "     tokenizer=model.tokenizer,\n",
    "     data=dataset,\n",
    "     metric=\"squad_v2\",\n",
    "     squad_v2_format=True,\n",
    ")"
   ]
  }
 ],
 "metadata": {
  "kernelspec": {
   "display_name": ".env",
   "language": "python",
   "name": "python3"
  },
  "language_info": {
   "codemirror_mode": {
    "name": "ipython",
    "version": 3
   },
   "file_extension": ".py",
   "mimetype": "text/x-python",
   "name": "python",
   "nbconvert_exporter": "python",
   "pygments_lexer": "ipython3",
   "version": "3.11.3"
  },
  "papermill": {
   "default_parameters": {},
   "duration": 9586.773489,
   "end_time": "2023-08-08T20:10:48.449057",
   "environment_variables": {},
   "exception": null,
   "input_path": "05_squad.ipynb",
   "output_path": "outputs/05_squad_int4.ipynb",
   "parameters": {
    "max_samples": -1,
    "model_size": "int4"
   },
   "start_time": "2023-08-08T17:31:01.675568",
   "version": "2.4.0"
  }
 },
 "nbformat": 4,
 "nbformat_minor": 5
}